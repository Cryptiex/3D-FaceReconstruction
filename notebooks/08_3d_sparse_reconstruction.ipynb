{
 "cells": [
  {
   "cell_type": "markdown",
   "id": "ultimate-fossil",
   "metadata": {},
   "source": [
    "# 3D Sparse Reconstruction\n",
    "This notebook showcases how sparse face reconstruction with the Basel Face Model can be done directly in 3D.  \n",
    "The resulting optimization problem is simpler as it does not contain projecting between 3D and 2D. However, more preprocessing is necessary.  \n",
    "We need RGB-D data to be able to generate a pointcloud. In this notebook, the `BIWI Kinect Dataset` is used. It can be downloaded here: https://www.kaggle.com/kmader/biwi-kinect-head-pose-database  \n",
    "As depth and color channel typically are not aligned, we first have to do registration.  \n",
    "Finally, we can detect the landmarks in the 2D color image, project them with the depth information to 3D and then proceed with the optimization process"
   ]
  },
  {
   "cell_type": "code",
   "execution_count": null,
   "id": "coordinated-rocket",
   "metadata": {},
   "outputs": [],
   "source": [
    "%cd ..\n",
    "%reload_ext autoreload\n",
    "%autoreload 2"
   ]
  },
  {
   "cell_type": "code",
   "execution_count": null,
   "id": "reduced-example",
   "metadata": {},
   "outputs": [],
   "source": [
    "import matplotlib.pyplot as plt\n",
    "import numpy as np\n",
    "import pyrender\n",
    "from scipy import optimize\n",
    "\n",
    "from face_reconstruction.data.biwi import BiwiDataLoader\n",
    "from face_reconstruction.graphics import draw_pixels_to_image, register_rgb_depth, backproject_points, interpolate_around\n",
    "from face_reconstruction.landmarks import load_bfm_landmarks, detect_landmarks\n",
    "from face_reconstruction.model import BaselFaceModel\n",
    "from face_reconstruction.optim import BFMOptimization"
   ]
  },
  {
   "cell_type": "markdown",
   "id": "liquid-indication",
   "metadata": {},
   "source": [
    "# 1. Face Model"
   ]
  },
  {
   "cell_type": "code",
   "execution_count": null,
   "id": "bearing-scroll",
   "metadata": {},
   "outputs": [],
   "source": [
    "bfm = BaselFaceModel.from_h5(\"model2019_face12.h5\")\n",
    "bfm_landmarks = load_bfm_landmarks(\"model2019_face12_landmarks_v2\")\n",
    "bfm_landmark_indices = np.array(list(bfm_landmarks.values()))"
   ]
  },
  {
   "cell_type": "code",
   "execution_count": null,
   "id": "virtual-hollow",
   "metadata": {},
   "outputs": [],
   "source": [
    "n_shape_coefficients = bfm.get_n_shape_coefficients()\n",
    "n_expression_coefficients = bfm.get_n_expression_coefficients()\n",
    "n_color_coefficients = bfm.get_n_color_coefficients()"
   ]
  },
  {
   "cell_type": "markdown",
   "id": "distant-reach",
   "metadata": {},
   "source": [
    "# 2. Input RGB-D Image "
   ]
  },
  {
   "cell_type": "code",
   "execution_count": null,
   "id": "functional-hydrogen",
   "metadata": {},
   "outputs": [],
   "source": [
    "run_id = 1\n",
    "frame_id = 4\n",
    "\n",
    "biwi_loader = BiwiDataLoader(run_id)\n",
    "frame = biwi_loader.get_frame(frame_id)"
   ]
  },
  {
   "cell_type": "code",
   "execution_count": null,
   "id": "cloudy-amendment",
   "metadata": {},
   "outputs": [],
   "source": [
    "img_width = biwi_loader.get_image_width()\n",
    "img_height = biwi_loader.get_image_height()"
   ]
  },
  {
   "cell_type": "code",
   "execution_count": null,
   "id": "short-stupid",
   "metadata": {},
   "outputs": [],
   "source": [
    "img = frame.get_color_image()\n",
    "plt.imshow(img)"
   ]
  },
  {
   "cell_type": "code",
   "execution_count": null,
   "id": "wound-master",
   "metadata": {},
   "outputs": [],
   "source": [
    "plt.imshow(frame.get_depth_image())\n",
    "plt.colorbar()"
   ]
  },
  {
   "cell_type": "markdown",
   "id": "magnetic-major",
   "metadata": {},
   "source": [
    "## 2.1 Depth and RGB channels are not aligned"
   ]
  },
  {
   "cell_type": "code",
   "execution_count": null,
   "id": "inner-government",
   "metadata": {},
   "outputs": [],
   "source": [
    "masked_color_image = frame.get_color_image()\n",
    "masked_color_image[frame.get_depth_image() == 0] = 0\n",
    "plt.imshow(masked_color_image)"
   ]
  },
  {
   "cell_type": "markdown",
   "id": "rubber-karen",
   "metadata": {},
   "source": [
    "## 2.2 Align Depth and RGB channels (Registration)"
   ]
  },
  {
   "cell_type": "code",
   "execution_count": null,
   "id": "vulnerable-honey",
   "metadata": {},
   "outputs": [],
   "source": [
    "points, colors, screen_positions = register_rgb_depth(frame.get_depth_image(), frame.get_color_image(), biwi_loader.get_depth_intrinsics(), biwi_loader.get_rgb_intrinsics(), biwi_loader.get_rgb_extrinsics())"
   ]
  },
  {
   "cell_type": "code",
   "execution_count": null,
   "id": "indirect-buyer",
   "metadata": {},
   "outputs": [],
   "source": [
    "img_depth_mask = np.zeros((img_height, img_width))\n",
    "draw_pixels_to_image(img_depth_mask, screen_positions)"
   ]
  },
  {
   "cell_type": "code",
   "execution_count": null,
   "id": "moral-warner",
   "metadata": {},
   "outputs": [],
   "source": [
    "masked_color_image = frame.get_color_image()\n",
    "masked_color_image[img_depth_mask == 0] = 0\n",
    "plt.imshow(masked_color_image)\n",
    "plt.show()"
   ]
  },
  {
   "cell_type": "markdown",
   "id": "thermal-bradford",
   "metadata": {},
   "source": [
    "# 3. Render Point Cloud"
   ]
  },
  {
   "cell_type": "code",
   "execution_count": null,
   "id": "acquired-transaction",
   "metadata": {},
   "outputs": [],
   "source": [
    "perspective_camera = pyrender.PerspectiveCamera(yfov=np.pi / 3.0)\n",
    "projection_matrix = perspective_camera.get_projection_matrix(width=img_width, height=img_height)\n",
    "initial_camera_pose = np.array([[1, 0, 0, 0], [0, 1, 0, 0], [0, 0, 1, 0], [0, 0, 0, 1]]) # position camera just in front of face\n",
    "directional_light = pyrender.DirectionalLight(color=[1.0, 1.0, 1.0], intensity=2.0)"
   ]
  },
  {
   "cell_type": "code",
   "execution_count": null,
   "id": "after-friendly",
   "metadata": {},
   "outputs": [],
   "source": [
    "points_to_render = np.array(points)\n",
    "points_to_render[:, 2] = -points_to_render[:, 2]  # Invert z-coordinate for easier rendering (point cloud will be right in front of camera)"
   ]
  },
  {
   "cell_type": "code",
   "execution_count": null,
   "id": "renewable-color",
   "metadata": {},
   "outputs": [],
   "source": [
    "scene = pyrender.Scene()\n",
    "scene.add(pyrender.Mesh.from_points(points_to_render, colors=colors), pose=initial_camera_pose)\n",
    "scene.add(perspective_camera)\n",
    "scene.add(directional_light)"
   ]
  },
  {
   "cell_type": "code",
   "execution_count": null,
   "id": "opposed-gross",
   "metadata": {},
   "outputs": [],
   "source": [
    "pyrender.Viewer(scene, use_raymond_lighting=True, viewport_size=(img_width, img_height))"
   ]
  },
  {
   "cell_type": "markdown",
   "id": "fewer-balloon",
   "metadata": {},
   "source": [
    "# 4. Detect 3D Landmarks"
   ]
  },
  {
   "cell_type": "code",
   "execution_count": null,
   "id": "neither-reduction",
   "metadata": {},
   "outputs": [],
   "source": [
    "landmarks_img = detect_landmarks(img)"
   ]
  },
  {
   "cell_type": "code",
   "execution_count": null,
   "id": "polish-honolulu",
   "metadata": {},
   "outputs": [],
   "source": [
    "# Create a depth image for easier querying of depth values\n",
    "rgb_depth_img = np.zeros((img_height, img_width))\n",
    "for point, screen_position in zip(points, screen_positions):\n",
    "    rgb_depth_img[screen_position[1], screen_position[0]] = point[2]"
   ]
  },
  {
   "cell_type": "code",
   "execution_count": null,
   "id": "consolidated-connecticut",
   "metadata": {},
   "outputs": [],
   "source": [
    "# As RGB and depth channels are not aligned, we might not have exact depth information for every pixel in the color channel. Hence, we have to interpolate\n",
    "interpolation_size = 1\n",
    "rgb_depth_values = [interpolate_around(rgb_depth_img, pixel, interpolation_size) for pixel in landmarks_img]"
   ]
  },
  {
   "cell_type": "code",
   "execution_count": null,
   "id": "indian-client",
   "metadata": {},
   "outputs": [],
   "source": [
    "pixels_without_depth = sum(np.array(rgb_depth_values) == 0)\n",
    "if pixels_without_depth > 0:\n",
    "    print(f\"There are {pixels_without_depth} pixels without depth information. Consider increasing `interpolation_size`!\")"
   ]
  },
  {
   "cell_type": "code",
   "execution_count": null,
   "id": "basic-shopping",
   "metadata": {},
   "outputs": [],
   "source": [
    "valid_landmark_points_3d = np.where(np.array(rgb_depth_values) != 0)[0]"
   ]
  },
  {
   "cell_type": "code",
   "execution_count": null,
   "id": "useful-society",
   "metadata": {},
   "outputs": [],
   "source": [
    "landmark_points_3d = backproject_points(biwi_loader.get_rgb_intrinsics(), rgb_depth_values, landmarks_img)\n",
    "landmark_points_3d_render = np.array(landmark_points_3d)\n",
    "landmark_points_3d_render[:,2] = -landmark_points_3d_render[:,2]  # Invert z-coordinate for easier rendering (landmarks will be right in front of camera)"
   ]
  },
  {
   "cell_type": "code",
   "execution_count": null,
   "id": "packed-thickness",
   "metadata": {},
   "outputs": [],
   "source": [
    "scene = pyrender.Scene()\n",
    "scene.add(pyrender.Mesh.from_points(points_to_render, colors=colors), pose=initial_camera_pose)\n",
    "scene.add(pyrender.Mesh.from_points(landmark_points_3d_render[valid_landmark_points_3d], colors=[[255, 0, 0] for _ in range(len(landmark_points_3d[valid_landmark_points_3d]))]), pose=initial_camera_pose)\n",
    "scene.add(perspective_camera)\n",
    "scene.add(directional_light)"
   ]
  },
  {
   "cell_type": "code",
   "execution_count": null,
   "id": "boring-transaction",
   "metadata": {},
   "outputs": [],
   "source": [
    "pyrender.Viewer(scene, use_raymond_lighting=True, viewport_size=(img_width, img_height))"
   ]
  },
  {
   "cell_type": "markdown",
   "id": "neutral-desire",
   "metadata": {},
   "source": [
    "# 5. Optimization"
   ]
  },
  {
   "cell_type": "code",
   "execution_count": null,
   "id": "rocky-bottom",
   "metadata": {},
   "outputs": [],
   "source": [
    "n_params_shape = 3 # 20\n",
    "n_params_expression = 3 # 10\n",
    "weight_shape_params = 1 # 10000\n",
    "weight_expression_params = 1 # 1000"
   ]
  },
  {
   "cell_type": "code",
   "execution_count": null,
   "id": "powerful-simon",
   "metadata": {},
   "outputs": [],
   "source": [
    "sparse_optimization = BFMOptimization(bfm, n_params_shape, n_params_expression, weight_shape_params=weight_shape_params, weight_expression_params=weight_expression_params)\n",
    "loss = sparse_optimization.create_sparse_loss_3d(bfm_landmark_indices[valid_landmark_points_3d], landmark_points_3d_render[valid_landmark_points_3d])"
   ]
  },
  {
   "cell_type": "code",
   "execution_count": null,
   "id": "olympic-parade",
   "metadata": {},
   "outputs": [],
   "source": [
    "initial_params = sparse_optimization.create_parameters(\n",
    "    [0 for _ in range(n_shape_coefficients)],\n",
    "    [0 for _ in range(n_expression_coefficients)],\n",
    "    initial_camera_pose\n",
    ")"
   ]
  },
  {
   "cell_type": "code",
   "execution_count": null,
   "id": "patient-tissue",
   "metadata": {},
   "outputs": [],
   "source": [
    "# This typically takes 20 seconds\n",
    "result = optimize.least_squares(loss, initial_params.to_theta(), max_nfev=100, verbose=2, x_scale='jac')"
   ]
  },
  {
   "cell_type": "code",
   "execution_count": null,
   "id": "informative-transport",
   "metadata": {},
   "outputs": [],
   "source": [
    "params = sparse_optimization.create_parameters_from_theta(result.x)"
   ]
  },
  {
   "cell_type": "code",
   "execution_count": null,
   "id": "scientific-klein",
   "metadata": {},
   "outputs": [],
   "source": [
    "face_mesh = bfm.draw_sample(\n",
    "        shape_coefficients=params.shape_coefficients, \n",
    "        expression_coefficients=params.expression_coefficients, \n",
    "        color_coefficients=[0 for _ in range(n_color_coefficients)])"
   ]
  },
  {
   "cell_type": "code",
   "execution_count": null,
   "id": "mental-conversation",
   "metadata": {},
   "outputs": [],
   "source": [
    "bfm_landmark_vertices = np.array(face_mesh.vertices)[bfm_landmark_indices[valid_landmark_points_3d]]"
   ]
  },
  {
   "cell_type": "code",
   "execution_count": null,
   "id": "after-remove",
   "metadata": {},
   "outputs": [],
   "source": [
    "def setup_scene(show_landmarks=True, show_pointcloud=True, show_mask=True):\n",
    "    scene = pyrender.Scene()\n",
    "    if show_pointcloud:\n",
    "        scene.add(pyrender.Mesh.from_points(points_to_render, colors=colors), pose=initial_camera_pose)\n",
    "    if show_mask:\n",
    "        scene.add(pyrender.Mesh.from_trimesh(bfm.convert_to_trimesh(face_mesh)), pose=params.camera_pose)\n",
    "    if show_landmarks:\n",
    "        scene.add(pyrender.Mesh.from_points(landmark_points_3d_render[valid_landmark_points_3d], colors=[[255, 0, 0] for _ in range(len(landmark_points_3d[valid_landmark_points_3d]))]), pose=initial_camera_pose)\n",
    "        scene.add(pyrender.Mesh.from_points(bfm_landmark_vertices, colors=[[0, 255, 0] for _ in range(len(bfm_landmark_vertices))]), pose=params.camera_pose)\n",
    "    scene.add(perspective_camera)\n",
    "    scene.add(directional_light)\n",
    "    return scene"
   ]
  },
  {
   "cell_type": "code",
   "execution_count": null,
   "id": "interesting-click",
   "metadata": {},
   "outputs": [],
   "source": [
    "scene = setup_scene(show_landmarks=True, show_pointcloud=True)"
   ]
  },
  {
   "cell_type": "code",
   "execution_count": null,
   "id": "cooperative-trust",
   "metadata": {},
   "outputs": [],
   "source": [
    "pyrender.Viewer(scene, use_raymond_lighting=True, viewport_size=(img_width, img_height))"
   ]
  },
  {
   "cell_type": "code",
   "execution_count": null,
   "id": "ready-assembly",
   "metadata": {},
   "outputs": [],
   "source": [
    "r = pyrender.OffscreenRenderer(img_width, img_height)\n",
    "color, depth = r.render(scene)\n",
    "r.delete()"
   ]
  },
  {
   "cell_type": "code",
   "execution_count": null,
   "id": "dressed-tracy",
   "metadata": {},
   "outputs": [],
   "source": [
    "plt.imshow(color)"
   ]
  },
  {
   "cell_type": "code",
   "execution_count": null,
   "id": "indirect-crack",
   "metadata": {},
   "outputs": [],
   "source": []
  }
 ],
 "metadata": {
  "kernelspec": {
   "display_name": "Python 3",
   "language": "python",
   "name": "python3"
  },
  "language_info": {
   "codemirror_mode": {
    "name": "ipython",
    "version": 3
   },
   "file_extension": ".py",
   "mimetype": "text/x-python",
   "name": "python",
   "nbconvert_exporter": "python",
   "pygments_lexer": "ipython3",
   "version": "3.7.9"
  }
 },
 "nbformat": 4,
 "nbformat_minor": 5
}
