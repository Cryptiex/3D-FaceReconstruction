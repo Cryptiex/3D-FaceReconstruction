{
 "cells": [
  {
   "cell_type": "code",
   "execution_count": 1,
   "id": "instructional-learning",
   "metadata": {},
   "outputs": [
    {
     "name": "stdout",
     "output_type": "stream",
     "text": [
      "/Users/marc/local-dev/3D-FaceReconstruction\n"
     ]
    }
   ],
   "source": [
    "%cd .."
   ]
  },
  {
   "cell_type": "code",
   "execution_count": 2,
   "id": "moral-major",
   "metadata": {},
   "outputs": [],
   "source": [
    "import open3d\n",
    "import cv2\n",
    "from face_reconstruction.landmarks import detect_pcd_landmarks\n",
    "from env import DATA_PATH"
   ]
  },
  {
   "cell_type": "code",
   "execution_count": 3,
   "id": "portable-behalf",
   "metadata": {},
   "outputs": [],
   "source": [
    "image_path=DATA_PATH+\"/rgb-d-scans/000_00_image.png\"\n",
    "pcd_path = DATA_PATH+\"/rgb-d-scans/000_00_cloud.pcd\"\n",
    "#intrinsic matrix from camera_info.yaml\n",
    "K= [1052.667867276341, 0, 962.4130834944134, 0, 1052.020917785721, 536.2206151001486, 0, 0, 1]\n",
    "pcd = open3d.io.read_point_cloud(pcd_path)\n",
    "img = cv2.imread(image_path)"
   ]
  },
  {
   "cell_type": "code",
   "execution_count": 4,
   "id": "french-track",
   "metadata": {},
   "outputs": [],
   "source": [
    "landmarks_pcd= detect_pcd_landmarks(img,pcd,K)"
   ]
  },
  {
   "cell_type": "code",
   "execution_count": 6,
   "id": "excess-commander",
   "metadata": {},
   "outputs": [],
   "source": [
    "#annotate landmark in pointcloud\n",
    "for index in landmarks_pcd:\n",
    "    pcd.colors[index]=[255,0,0]"
   ]
  },
  {
   "cell_type": "code",
   "execution_count": null,
   "id": "vital-columbia",
   "metadata": {},
   "outputs": [],
   "source": [
    "open3d.visualization.draw_geometries([pcd])"
   ]
  },
  {
   "cell_type": "code",
   "execution_count": null,
   "id": "allied-nutrition",
   "metadata": {},
   "outputs": [],
   "source": []
  }
 ],
 "metadata": {
  "kernelspec": {
   "display_name": "venv",
   "language": "python",
   "name": "venv"
  },
  "language_info": {
   "codemirror_mode": {
    "name": "ipython",
    "version": 3
   },
   "file_extension": ".py",
   "mimetype": "text/x-python",
   "name": "python",
   "nbconvert_exporter": "python",
   "pygments_lexer": "ipython3",
   "version": "3.8.2"
  }
 },
 "nbformat": 4,
 "nbformat_minor": 5
}
