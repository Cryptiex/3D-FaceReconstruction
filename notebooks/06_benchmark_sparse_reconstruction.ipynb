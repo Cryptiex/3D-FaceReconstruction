{
 "cells": [
  {
   "cell_type": "code",
   "execution_count": null,
   "id": "confused-flower",
   "metadata": {},
   "outputs": [],
   "source": [
    "%cd ..\n",
    "%reload_ext autoreload\n",
    "%autoreload 2"
   ]
  },
  {
   "cell_type": "code",
   "execution_count": null,
   "id": "medieval-gospel",
   "metadata": {},
   "outputs": [],
   "source": [
    "import cv2\n",
    "import matplotlib.pyplot as plt\n",
    "import numpy as np\n",
    "import pyrender\n",
    "from scipy import optimize\n",
    "from tqdm import tqdm\n",
    "\n",
    "from env import DATA_PATH\n",
    "from face_reconstruction.graphics import SimpleImageRenderer\n",
    "from face_reconstruction.landmarks import load_bfm_landmarks, detect_landmarks\n",
    "from face_reconstruction.model import BaselFaceModel\n",
    "from face_reconstruction.optim import SparseOptimization\n",
    "from face_reconstruction.plots import PlotManager\n",
    "from face_reconstruction.utils.timing import Timing"
   ]
  },
  {
   "cell_type": "markdown",
   "id": "chubby-karma",
   "metadata": {},
   "source": [
    "# 1. Setup Model, Image and Rendering "
   ]
  },
  {
   "cell_type": "code",
   "execution_count": null,
   "id": "controversial-prisoner",
   "metadata": {},
   "outputs": [],
   "source": [
    "bfm = BaselFaceModel.from_h5(\"model2019_face12.h5\")\n",
    "bfm_landmarks = load_bfm_landmarks(\"model2019_face12_landmarks_v2\")\n",
    "bfm_landmark_indices = list(bfm_landmarks.values())"
   ]
  },
  {
   "cell_type": "code",
   "execution_count": null,
   "id": "positive-ethnic",
   "metadata": {},
   "outputs": [],
   "source": [
    "img_path = f\"{DATA_PATH}/Keypoint Detection/trump.jpg\"\n",
    "img = cv2.imread(img_path)\n",
    "landmarks_img = detect_landmarks(img)\n",
    "img_width = img.shape[1]\n",
    "img_height = img.shape[0]"
   ]
  },
  {
   "cell_type": "code",
   "execution_count": null,
   "id": "external-glasgow",
   "metadata": {},
   "outputs": [],
   "source": [
    "perspective_camera = pyrender.PerspectiveCamera(yfov=np.pi / 3.0)\n",
    "projection_matrix = perspective_camera.get_projection_matrix(width=img_width, height=img_height)\n",
    "renderer = SimpleImageRenderer(projection_matrix, img_width, img_height)"
   ]
  },
  {
   "cell_type": "markdown",
   "id": "meaningful-register",
   "metadata": {},
   "source": [
    "# 2. Setup Optimization"
   ]
  },
  {
   "cell_type": "code",
   "execution_count": null,
   "id": "important-longer",
   "metadata": {},
   "outputs": [],
   "source": [
    "def run_optimization(sparse_optimization):\n",
    "    initial_params = sparse_optimization.create_parameters(\n",
    "        [0 for _ in range(bfm.get_n_shape_coefficients())],\n",
    "        [0 for _ in range(bfm.get_n_expression_coefficients())],\n",
    "        np.array([[1, 0, 0, 0], [0, 1, 0, 0], [0, 0, 1, -300], [0, 0, 0, 1]])\n",
    "    )\n",
    "    loss = sparse_optimization.create_loss(renderer, bfm_landmark_indices, landmarks_img)\n",
    "    result = optimize.least_squares(loss, initial_params.to_theta(), max_nfev=100, gtol=1e-15)\n",
    "    return result"
   ]
  },
  {
   "cell_type": "markdown",
   "id": "muslim-dating",
   "metadata": {},
   "source": [
    "# 3. Benchmarks"
   ]
  },
  {
   "cell_type": "code",
   "execution_count": null,
   "id": "foreign-belarus",
   "metadata": {},
   "outputs": [],
   "source": [
    "plot_manager = PlotManager(\"sparse_reconstruction_benchmarks\")"
   ]
  },
  {
   "cell_type": "markdown",
   "id": "beautiful-minneapolis",
   "metadata": {},
   "source": [
    "## 3.1 Benchmark impact of weighting shape parameters"
   ]
  },
  {
   "cell_type": "code",
   "execution_count": null,
   "id": "labeled-litigation",
   "metadata": {},
   "outputs": [],
   "source": [
    "n_params_shape = 10\n",
    "n_params_expression = 0\n",
    "shape_weights = [500, 1000, 2000, 3000, 4000, 5000, 6000, 7000, 8000, 9000, 10000, 15000, 20000, 25000, 30000]"
   ]
  },
  {
   "cell_type": "code",
   "execution_count": null,
   "id": "plain-anxiety",
   "metadata": {},
   "outputs": [],
   "source": [
    "costs_by_shape_weight = []\n",
    "runtimes_by_shape_weight = []\n",
    "for weight in tqdm(shape_weights):\n",
    "    sparse_optimization = SparseOptimization(bfm, n_params_shape, n_params_expression, weight_shape_params=weight)\n",
    "    with Timing() as t:\n",
    "        result = run_optimization(sparse_optimization)\n",
    "        runtimes_by_shape_weight.append(t)\n",
    "    costs_by_shape_weight.append(result.cost)"
   ]
  },
  {
   "cell_type": "code",
   "execution_count": null,
   "id": "african-valuable",
   "metadata": {},
   "outputs": [],
   "source": [
    "plt.figure(figsize=(12, 8))\n",
    "plt.title(\"Final Optimization Cost by shape parameters weight\")\n",
    "\n",
    "line_cost = plt.plot(shape_weights, costs_by_shape_weight, label='Cost')\n",
    "plt.ylabel('Cost')\n",
    "plt.xlabel('Weight of shape parameters')\n",
    "\n",
    "ax2 = plt.gca().twinx()  # instantiate a second axes that shares the same x-axis\n",
    "line_time = ax2.plot(shape_weights, runtimes_by_shape_weight, color='orange', label='Runtime')\n",
    "plt.ylabel('Runtime in seconds')\n",
    "\n",
    "lns = line_cost + line_time\n",
    "labs = [l.get_label() for l in lns]\n",
    "plt.legend(lns, labs)\n",
    "\n",
    "plot_manager.save_current_plot(\"benchmark_cost_by_shape_params_weight.pdf\")\n",
    "plt.show()"
   ]
  },
  {
   "cell_type": "markdown",
   "id": "expired-charge",
   "metadata": {},
   "source": [
    "## 3.2 Benchmark impact of weighting expression parameters"
   ]
  },
  {
   "cell_type": "code",
   "execution_count": null,
   "id": "protected-mississippi",
   "metadata": {},
   "outputs": [],
   "source": [
    "n_params_shape = 5\n",
    "n_params_expression = 10\n",
    "expression_weights =[500, 1000, 2000, 3000, 4000, 5000, 6000, 7000, 8000, 9000, 10000]"
   ]
  },
  {
   "cell_type": "code",
   "execution_count": null,
   "id": "respected-variance",
   "metadata": {},
   "outputs": [],
   "source": [
    "costs_by_expression_weight = []\n",
    "runtimes_by_expression_weight = []\n",
    "for weight in tqdm(expression_weights):\n",
    "    sparse_optimization = SparseOptimization(bfm, n_params_shape, n_params_expression, weight_expression_params=weight)\n",
    "    with Timing() as t:\n",
    "        result = run_optimization(sparse_optimization)\n",
    "        runtimes_by_expression_weight.append(t)\n",
    "    costs_by_expression_weight.append(result.cost)"
   ]
  },
  {
   "cell_type": "code",
   "execution_count": null,
   "id": "silent-slave",
   "metadata": {},
   "outputs": [],
   "source": [
    "plt.figure(figsize=(12, 8))\n",
    "plt.title(\"Final Optimization Cost by expression parameters weight\")\n",
    "\n",
    "line_cost = plt.plot(expression_weights, costs_by_expression_weight, label='Cost')\n",
    "plt.ylabel('Cost')\n",
    "plt.xlabel('Weight of expression parameters')\n",
    "\n",
    "ax2 = plt.gca().twinx()  # instantiate a second axes that shares the same x-axis\n",
    "line_time = ax2.plot(expression_weights, runtimes_by_expression_weight, color='orange', label='Runtime')\n",
    "plt.ylabel('Runtime in seconds')\n",
    "\n",
    "lns = line_cost + line_time\n",
    "labs = [l.get_label() for l in lns]\n",
    "plt.legend(lns, labs)\n",
    "\n",
    "plot_manager.save_current_plot(\"benchmark_cost_by_expression_params_weight.pdf\")\n",
    "plt.show()"
   ]
  },
  {
   "cell_type": "markdown",
   "id": "designed-recruitment",
   "metadata": {},
   "source": [
    "# 3.3 Benchmark number of Shape parameters"
   ]
  },
  {
   "cell_type": "code",
   "execution_count": null,
   "id": "historic-dispute",
   "metadata": {},
   "outputs": [],
   "source": [
    "n_params_shape = [2, 5, 10, 15, 20, 25, 30, 35, 40, 45, 50, 55, 60, 65, 70, 75, 80, 85, 90, 95, 100]\n",
    "n_params_expression = 5\n",
    "weight_face_parameters = 1000"
   ]
  },
  {
   "cell_type": "code",
   "execution_count": null,
   "id": "latest-prophet",
   "metadata": {},
   "outputs": [],
   "source": [
    "costs_by_shape_param = []\n",
    "runtimes_by_shape_param = []\n",
    "for param_shape in tqdm(n_params_shape):\n",
    "    sparse_optimization = SparseOptimization(bfm, n_params_shape=param_shape, n_params_expression=n_params_expression, weight_shape_params=weight_face_parameters, weight_expression_params=weight_face_parameters)\n",
    "    with Timing() as t:\n",
    "        result = run_optimization(sparse_optimization)\n",
    "        runtimes_by_shape_param.append(t)\n",
    "    costs_by_shape_param.append(result.cost)"
   ]
  },
  {
   "cell_type": "code",
   "execution_count": null,
   "id": "dimensional-missile",
   "metadata": {},
   "outputs": [],
   "source": [
    "plt.figure(figsize=(5, 3))\n",
    "plt.title(\"Final Optimization Cost by number of shape parameters\")\n",
    "\n",
    "line_cost = plt.plot(n_params_shape, costs_by_shape_param, label='Cost')\n",
    "plt.ylabel('Cost')\n",
    "plt.xlabel('#shape parameters under Optimization')\n",
    "\n",
    "ax2 = plt.gca().twinx()  # instantiate a second axes that shares the same x-axis\n",
    "line_time = ax2.plot(n_params_shape, runtimes_by_shape_param, color='orange', label='Runtime')\n",
    "plt.ylabel('Runtime in seconds')\n",
    "\n",
    "lns = line_cost + line_time\n",
    "labs = [l.get_label() for l in lns]\n",
    "plt.legend(lns, labs)\n",
    "\n",
    "plot_manager.save_current_plot(\"benchmark_cost_by_n_shape_params.pdf\")\n",
    "plt.show()"
   ]
  },
  {
   "cell_type": "markdown",
   "id": "incident-shift",
   "metadata": {},
   "source": [
    "# 3.4 Benchmark number of expression parameters"
   ]
  },
  {
   "cell_type": "code",
   "execution_count": null,
   "id": "primary-situation",
   "metadata": {},
   "outputs": [],
   "source": [
    "n_params_shape = 10\n",
    "n_params_expression = [2, 5, 10, 15, 20, 25, 30, 35, 40, 45, 50, 55, 60, 65, 70, 75, 80, 85, 90, 95, 100]\n",
    "weight_face_parameters = 1000"
   ]
  },
  {
   "cell_type": "code",
   "execution_count": null,
   "id": "ecological-college",
   "metadata": {},
   "outputs": [],
   "source": [
    "costs_by_expression_param = []\n",
    "runtimes_by_expression_param = []\n",
    "for param_expression in tqdm(n_params_expression):\n",
    "    sparse_optimization = SparseOptimization(bfm, n_params_shape=n_params_shape, n_params_expression=param_expression, weight_shape_params=weight_face_parameters, weight_expression_params=weight_face_parameters)\n",
    "    with Timing() as t:\n",
    "        result = run_optimization(sparse_optimization)\n",
    "        runtimes_by_expression_param.append(t)\n",
    "    costs_by_expression_param.append(result.cost)"
   ]
  },
  {
   "cell_type": "code",
   "execution_count": null,
   "id": "powerful-guitar",
   "metadata": {},
   "outputs": [],
   "source": [
    "plt.figure(figsize=(5, 3))\n",
    "plt.title(\"Final Optimization Cost by number of expression parameters\")\n",
    "\n",
    "line_cost = plt.plot(n_params_expression, costs_by_expression_param, label='Cost')\n",
    "plt.ylabel('Cost')\n",
    "plt.xlabel('#expression parameters under Optimization')\n",
    "\n",
    "ax2 = plt.gca().twinx()  # instantiate a second axes that shares the same x-axis\n",
    "line_time = ax2.plot(n_params_expression, runtimes_by_expression_param, color='orange', label='Runtime')\n",
    "plt.ylabel('Runtime in seconds')\n",
    "\n",
    "lns = line_cost + line_time\n",
    "labs = [l.get_label() for l in lns]\n",
    "plt.legend(lns, labs)\n",
    "\n",
    "plot_manager.save_current_plot(\"benchmark_cost_by_n_expression_params.pdf\")\n",
    "plt.show()"
   ]
  },
  {
   "cell_type": "code",
   "execution_count": null,
   "id": "increasing-midnight",
   "metadata": {},
   "outputs": [],
   "source": []
  },
  {
   "cell_type": "code",
   "execution_count": null,
   "id": "supposed-bowling",
   "metadata": {},
   "outputs": [],
   "source": []
  }
 ],
 "metadata": {
  "kernelspec": {
   "display_name": "Python 3",
   "language": "python",
   "name": "python3"
  },
  "language_info": {
   "codemirror_mode": {
    "name": "ipython",
    "version": 3
   },
   "file_extension": ".py",
   "mimetype": "text/x-python",
   "name": "python",
   "nbconvert_exporter": "python",
   "pygments_lexer": "ipython3",
   "version": "3.7.9"
  }
 },
 "nbformat": 4,
 "nbformat_minor": 5
}
