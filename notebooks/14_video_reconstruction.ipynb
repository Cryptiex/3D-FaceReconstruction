{
 "cells": [
  {
   "cell_type": "markdown",
   "id": "first-motion",
   "metadata": {},
   "source": [
    "Prototype of the `video_reconstruction.py` script in the `scripts` folder.  \n",
    "Does Sparse and Dense Reconstruction for every frame of Marc's dataset. Several types of optimization are supported by changing the `reuse_previous_frame` and `keyframes` variables below"
   ]
  },
  {
   "cell_type": "code",
   "execution_count": null,
   "id": "superior-picnic",
   "metadata": {},
   "outputs": [],
   "source": [
    "%cd ..\n",
    "%reload_ext autoreload\n",
    "%autoreload 2"
   ]
  },
  {
   "cell_type": "code",
   "execution_count": null,
   "id": "personalized-humor",
   "metadata": {},
   "outputs": [],
   "source": [
    "import pyrender\n",
    "import matplotlib.pyplot as plt\n",
    "\n",
    "from face_reconstruction.pipeline import BFMPreprocessor\n",
    "from face_reconstruction.plots import PlotManager, plot_params\n",
    "from face_reconstruction.optim import NearestNeighborMode, DistanceType, run_icp, BFMOptimization, KeyframeOptimizationParameters, run_icp_keyframes, BFMOptimizationParameters"
   ]
  },
  {
   "cell_type": "markdown",
   "id": "revised-provision",
   "metadata": {},
   "source": [
    "# 1. Preprocessing"
   ]
  },
  {
   "cell_type": "code",
   "execution_count": null,
   "id": "banned-government",
   "metadata": {},
   "outputs": [],
   "source": [
    "preprocessor = BFMPreprocessor()"
   ]
  },
  {
   "cell_type": "code",
   "execution_count": null,
   "id": "adjusted-provincial",
   "metadata": {},
   "outputs": [],
   "source": [
    "def preprocess(frame_id):\n",
    "    img, depth_img, intrinsics = preprocessor.load_frame(frame_id)\n",
    "    pointcloud, pointcloud_normals, colors = preprocessor.to_3d(img, depth_img, intrinsics)\n",
    "    landmark_points, bfm_landmark_indices, face_pointcloud, face_pointcloud_colors = preprocessor.detect_landmarks(img, depth_img, intrinsics)\n",
    "    return bfm_landmark_indices, landmark_points, face_pointcloud, pointcloud_normals"
   ]
  },
  {
   "cell_type": "markdown",
   "id": "administrative-program",
   "metadata": {},
   "source": [
    "# 2. Sparse Reconstruction"
   ]
  },
  {
   "cell_type": "code",
   "execution_count": null,
   "id": "purple-portuguese",
   "metadata": {},
   "outputs": [],
   "source": [
    "reuse_previous_frame = True\n",
    "keyframes = [0, 25]"
   ]
  },
  {
   "cell_type": "code",
   "execution_count": null,
   "id": "seeing-connectivity",
   "metadata": {},
   "outputs": [],
   "source": [
    "n_params_shape_sparse = 3\n",
    "n_params_expression_sparse = 0\n",
    "weight_shape_params_sparse = 100\n",
    "weight_expression_params_sparse = 1\n",
    "l2_regularization_sparse = 10000"
   ]
  },
  {
   "cell_type": "code",
   "execution_count": null,
   "id": "chicken-james",
   "metadata": {},
   "outputs": [],
   "source": [
    "nn_mode = NearestNeighborMode.FACE_VERTICES # FACE_VERTICES: every face vertex will be assigned its nearest neighbor in pointcloud\n",
    "                                            # POINTCLOUD: every point in pointcloud will be assigned its nearest neighbor in face model\n",
    "distance_type = DistanceType.POINT_TO_POINT\n",
    "icp_iterations = 2\n",
    "optimization_steps_per_iteration = 10\n",
    "l2_regularization_dense = 4000 # 10000 for Lie\n",
    "\n",
    "n_params_shape_dense = 30 # 20\n",
    "n_params_expression_dense = 30 # 10\n",
    "weight_shape_params_dense = 100 # 10000, 10000000000 for POINT_TO_PLANE\n",
    "weight_expression_params_dense = 100 # 1000, 10000000000 for POINT_TO_PLANE"
   ]
  },
  {
   "cell_type": "code",
   "execution_count": null,
   "id": "secondary-solomon",
   "metadata": {},
   "outputs": [],
   "source": [
    "sparse_optimizer = BFMOptimization(preprocessor.bfm, \n",
    "                               n_params_shape=n_params_shape_sparse,\n",
    "                               n_params_expression=n_params_expression_sparse, \n",
    "                               weight_shape_params=weight_shape_params_sparse, \n",
    "                               weight_expression_params=weight_expression_params_sparse,\n",
    "                               rotation_mode='lie')\n",
    "\n",
    "dense_optimizer = BFMOptimization(preprocessor.bfm, \n",
    "                           n_params_shape=n_params_shape_dense,\n",
    "                           n_params_expression=n_params_expression_dense, \n",
    "                           weight_shape_params=weight_shape_params_dense, \n",
    "                           weight_expression_params=weight_expression_params_dense,\n",
    "                           rotation_mode='lie')"
   ]
  },
  {
   "cell_type": "code",
   "execution_count": null,
   "id": "tribal-surge",
   "metadata": {},
   "outputs": [],
   "source": [
    "def run_sparse_optimization(sparse_optimizer, bfm_landmark_indices, landmark_points, initial_params):\n",
    "    sparse_loss = sparse_optimizer.create_sparse_loss_3d(bfm_landmark_indices, landmark_points, regularization_strength=l2_regularization_sparse)\n",
    "    sparse_context = sparse_optimizer.create_optimization_context(sparse_loss, initial_params)\n",
    "    result = sparse_context.run_optimization(sparse_loss)\n",
    "    return sparse_context.create_parameters_from_theta(result.x)"
   ]
  },
  {
   "cell_type": "code",
   "execution_count": null,
   "id": "furnished-vision",
   "metadata": {},
   "outputs": [],
   "source": [
    "def run_dense_optimization(dense_optimizer, face_pointcloud, pointcloud_normals, params_sparse):\n",
    "    params, distances, dense_param_history = run_icp(dense_optimizer, \n",
    "                               face_pointcloud,\n",
    "                               preprocessor.bfm, \n",
    "                               params_sparse.with_new_manager(dense_optimizer), \n",
    "                               max_iterations=icp_iterations, \n",
    "                               nearest_neighbor_mode=nn_mode, \n",
    "                               distance_type=distance_type,\n",
    "                               max_nfev=optimization_steps_per_iteration,\n",
    "                               l2_regularization=l2_regularization_dense,\n",
    "                              pointcloud_normals=pointcloud_normals)\n",
    "    return params, dense_param_history"
   ]
  },
  {
   "cell_type": "code",
   "execution_count": null,
   "id": "selective-commonwealth",
   "metadata": {},
   "outputs": [],
   "source": [
    "plot_manager = PlotManager.new_run(\"video_reconstruction\")"
   ]
  },
  {
   "cell_type": "code",
   "execution_count": null,
   "id": "excited-actor",
   "metadata": {},
   "outputs": [],
   "source": [
    "initial_params = preprocessor.get_initial_params(sparse_optimizer)"
   ]
  },
  {
   "cell_type": "code",
   "execution_count": null,
   "id": "earlier-repository",
   "metadata": {},
   "outputs": [],
   "source": [
    "if keyframes:\n",
    "    print(f\"===== Estimating shape coefficients from keyframes =====\")\n",
    "    \n",
    "    # Only optimize for shape coefficients\n",
    "    sparse_optimizer = BFMOptimization(preprocessor.bfm, \n",
    "                               n_params_shape=n_params_shape_sparse,\n",
    "                               n_params_expression=0, \n",
    "                               weight_shape_params=weight_shape_params_sparse, \n",
    "                               weight_expression_params=weight_expression_params_sparse,\n",
    "                               rotation_mode='lie')\n",
    "\n",
    "    dense_optimizer = BFMOptimization(preprocessor.bfm, \n",
    "                               n_params_shape=n_params_shape_dense,\n",
    "                               n_params_expression=0, \n",
    "                               weight_shape_params=weight_shape_params_dense, \n",
    "                               weight_expression_params=weight_expression_params_dense,\n",
    "                               rotation_mode='lie')\n",
    "    \n",
    "    img_landmark_points = []\n",
    "    pointclouds = []\n",
    "    pointcloud_normals_list = []\n",
    "    bfm_landmark_indices_list = []\n",
    "    for frame_id in keyframes:\n",
    "        bfm_landmark_indices, landmark_points, face_pointcloud, pointcloud_normals = preprocess(frame_id)\n",
    "        bfm_landmark_indices_list.append(bfm_landmark_indices)\n",
    "        img_landmark_points.append(landmark_points)\n",
    "        pointclouds.append(face_pointcloud)\n",
    "        pointcloud_normals_list.append(pointcloud_normals)\n",
    "        \n",
    "    initial_params_keyframe = KeyframeOptimizationParameters(sparse_optimizer, [0 for _ in range(n_params_shape_sparse)], [initial_params.camera_pose for _ in range(len(keyframes))])\n",
    "    sparse_keyframe_loss = sparse_optimizer.create_sparse_keyframe_loss(bfm_landmark_indices_list, img_landmark_points, regularization_strength = l2_regularization_sparse)\n",
    "    sparse_context = sparse_optimizer.create_optimization_context(sparse_keyframe_loss, initial_params_keyframe)\n",
    "    result = sparse_context.run_optimization()\n",
    "    \n",
    "    initial_params_keyframe_dense = KeyframeOptimizationParameters.from_theta(sparse_context, result.x).with_new_manager(dense_optimizer)\n",
    "    params_dense, distances, dense_param_history = run_icp_keyframes(dense_optimizer, \n",
    "                               pointclouds,\n",
    "                               preprocessor.bfm, \n",
    "                               initial_params_keyframe_dense, \n",
    "                               max_iterations=icp_iterations, \n",
    "                               nearest_neighbor_mode=nn_mode, \n",
    "                               distance_type=distance_type,\n",
    "                               max_nfev=optimization_steps_per_iteration,\n",
    "                               l2_regularization=l2_regularization_dense,\n",
    "                              pointcloud_normals=pointcloud_normals_list)\n",
    "    \n",
    "    # Don't optimize for shape coefficients anymore\n",
    "    sparse_optimizer = BFMOptimization(preprocessor.bfm, \n",
    "                               n_params_shape=0,\n",
    "                               n_params_expression=n_params_expression_sparse, \n",
    "                               weight_shape_params=weight_shape_params_sparse, \n",
    "                               weight_expression_params=weight_expression_params_sparse,\n",
    "                               rotation_mode='lie')\n",
    "\n",
    "    dense_optimizer = BFMOptimization(preprocessor.bfm, \n",
    "                               n_params_shape=0,\n",
    "                               n_params_expression=n_params_expression_dense, \n",
    "                               weight_shape_params=weight_shape_params_dense, \n",
    "                               weight_expression_params=weight_expression_params_dense,\n",
    "                               rotation_mode='lie')\n",
    "    \n",
    "    initial_params = BFMOptimizationParameters(sparse_optimizer, params_dense.shape_coefficients, initial_params.expression_coefficients, initial_params.camera_pose)\n",
    "    plot_manager.save_params(initial_params, \"keyframe_params\")"
   ]
  },
  {
   "cell_type": "code",
   "execution_count": null,
   "id": "tracked-complex",
   "metadata": {},
   "outputs": [],
   "source": [
    "for frame_id in preprocessor.loader.get_frame_ids():\n",
    "    print(f\"===== Frame {frame_id} ======\")\n",
    "    bfm_landmark_indices, landmark_points, face_pointcloud, pointcloud_normals = preprocess(frame_id)\n",
    "    print(f\"  --- Sparse Reconstruction ---\")\n",
    "    params_sparse = run_sparse_optimization(sparse_optimizer, bfm_landmark_indices, landmark_points, initial_params)\n",
    "    print(f\"  --- Dense Reconstruction ---\")\n",
    "    params_dense, param_history = run_dense_optimization(dense_optimizer, face_pointcloud, pointcloud_normals, params_sparse)\n",
    "    \n",
    "    img_with_mask = preprocessor.render_onto_img(params_dense)\n",
    "    plot_manager.save_image(img_with_mask, f\"frame_{frame_id:04d}.jpg\")\n",
    "    plot_manager.save_params(params_dense, f\"params_{frame_id:04d}\")\n",
    "    plot_manager.save_param_history(param_history, f\"param_history_{frame_id:04d}\")\n",
    "    \n",
    "    if reuse_previous_frame:\n",
    "        initial_params = params_dense.with_new_manager(sparse_optimizer)\n",
    "    print()\n",
    "    print()"
   ]
  },
  {
   "cell_type": "markdown",
   "id": "desirable-stability",
   "metadata": {},
   "source": [
    "# 4. Rendering"
   ]
  },
  {
   "cell_type": "code",
   "execution_count": null,
   "id": "systematic-prophet",
   "metadata": {},
   "outputs": [],
   "source": [
    "frame_id = 2"
   ]
  },
  {
   "cell_type": "markdown",
   "id": "mental-cursor",
   "metadata": {},
   "source": [
    "## 4.1. Interactive Rendering"
   ]
  },
  {
   "cell_type": "code",
   "execution_count": null,
   "id": "alien-threat",
   "metadata": {},
   "outputs": [],
   "source": [
    "params = plot_manager.load_params(f\"params_{frame_id:04d}\", preprocessor.bfm)"
   ]
  },
  {
   "cell_type": "code",
   "execution_count": null,
   "id": "regulated-freedom",
   "metadata": {},
   "outputs": [],
   "source": [
    "scene = preprocessor.setup_scene(initial_params)"
   ]
  },
  {
   "cell_type": "code",
   "execution_count": null,
   "id": "minor-forum",
   "metadata": {},
   "outputs": [],
   "source": [
    "pyrender.Viewer(scene, use_raymond_lighting=True, viewport_size=(preprocessor.img_width, preprocessor.img_height))"
   ]
  },
  {
   "cell_type": "markdown",
   "id": "interstate-suggestion",
   "metadata": {},
   "source": [
    "## 4.2. 2D Rendering"
   ]
  },
  {
   "cell_type": "code",
   "execution_count": null,
   "id": "efficient-diesel",
   "metadata": {},
   "outputs": [],
   "source": [
    "img_with_mask = preprocessor.render_onto_img(initial_params)\n",
    "plt.imshow(img_with_mask)\n",
    "plt.show()"
   ]
  }
 ],
 "metadata": {
  "kernelspec": {
   "display_name": "Python 3",
   "language": "python",
   "name": "python3"
  },
  "language_info": {
   "codemirror_mode": {
    "name": "ipython",
    "version": 3
   },
   "file_extension": ".py",
   "mimetype": "text/x-python",
   "name": "python",
   "nbconvert_exporter": "python",
   "pygments_lexer": "ipython3",
   "version": "3.7.9"
  }
 },
 "nbformat": 4,
 "nbformat_minor": 5
}
