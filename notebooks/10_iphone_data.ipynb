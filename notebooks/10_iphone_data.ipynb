{
 "cells": [
  {
   "cell_type": "code",
   "execution_count": null,
   "id": "retired-merchandise",
   "metadata": {},
   "outputs": [],
   "source": [
    "%cd ..\n",
    "%reload_ext autoreload\n",
    "%autoreload 2"
   ]
  },
  {
   "cell_type": "code",
   "execution_count": null,
   "id": "forward-conviction",
   "metadata": {},
   "outputs": [],
   "source": [
    "import pyrender\n",
    "import numpy as np\n",
    "import matplotlib.pyplot as plt\n",
    "from PIL import Image\n",
    "\n",
    "from face_reconstruction.data.iphone import IPhoneDataLoader\n",
    "from face_reconstruction.graphics import backproject_image, setup_standard_scene, get_perspective_camera\n",
    "from env import IPHONE_DATASET_PATH"
   ]
  },
  {
   "cell_type": "markdown",
   "id": "special-trade",
   "metadata": {},
   "source": [
    "# 1. Setup Dataloader"
   ]
  },
  {
   "cell_type": "code",
   "execution_count": null,
   "id": "verified-trader",
   "metadata": {},
   "outputs": [],
   "source": [
    "dataloader = IPhoneDataLoader()\n",
    "img_width = dataloader.get_image_width()\n",
    "img_height = dataloader.get_image_height()"
   ]
  },
  {
   "cell_type": "code",
   "execution_count": null,
   "id": "seasonal-delay",
   "metadata": {},
   "outputs": [],
   "source": [
    "print(dataloader.get_frame_ids())"
   ]
  },
  {
   "cell_type": "code",
   "execution_count": null,
   "id": "pleased-candle",
   "metadata": {},
   "outputs": [],
   "source": [
    "frame_id = 0\n",
    "frame = dataloader.get_frame(frame_id)"
   ]
  },
  {
   "cell_type": "markdown",
   "id": "pointed-insured",
   "metadata": {},
   "source": [
    "# 2. Color Image"
   ]
  },
  {
   "cell_type": "code",
   "execution_count": null,
   "id": "strong-carbon",
   "metadata": {},
   "outputs": [],
   "source": [
    "color_img = frame.get_color_image()\n",
    "plt.imshow(color_img)\n",
    "plt.show()"
   ]
  },
  {
   "cell_type": "markdown",
   "id": "mental-logic",
   "metadata": {},
   "source": [
    "# 3. Depth Image"
   ]
  },
  {
   "cell_type": "code",
   "execution_count": null,
   "id": "national-acting",
   "metadata": {},
   "outputs": [],
   "source": [
    "depth_img = frame.get_depth_image()\n",
    "plt.imshow(depth_img)\n",
    "plt.colorbar()\n",
    "plt.show()"
   ]
  },
  {
   "cell_type": "markdown",
   "id": "artistic-photograph",
   "metadata": {},
   "source": [
    "# 4. Intrinsics"
   ]
  },
  {
   "cell_type": "code",
   "execution_count": null,
   "id": "legislative-appreciation",
   "metadata": {},
   "outputs": [],
   "source": [
    "intrinsics = frame.get_intrinsics()\n",
    "print(intrinsics)"
   ]
  },
  {
   "cell_type": "markdown",
   "id": "reasonable-substitute",
   "metadata": {},
   "source": [
    "# 5. Match Color and Depth"
   ]
  },
  {
   "cell_type": "code",
   "execution_count": null,
   "id": "colonial-newspaper",
   "metadata": {},
   "outputs": [],
   "source": [
    "masked_color_img = np.array(color_img)\n",
    "masked_color_img[depth_img > 1] = 0\n",
    "plt.imshow(masked_color_img)\n",
    "plt.show()"
   ]
  },
  {
   "cell_type": "markdown",
   "id": "catholic-headquarters",
   "metadata": {},
   "source": [
    "# 6 Project to 3D"
   ]
  },
  {
   "cell_type": "code",
   "execution_count": null,
   "id": "greatest-tracker",
   "metadata": {},
   "outputs": [],
   "source": [
    "points = backproject_image(intrinsics, depth_img)\n",
    "points = points[:, :3]\n",
    "points[:,2] = -points[:, 2]  # Invert z-coordinate\n",
    "points[:,1] = -points[:, 1]  # Invert y-coordinate\n",
    "colors = color_img.reshape(-1, 3)  # Just flatten color image"
   ]
  },
  {
   "cell_type": "code",
   "execution_count": null,
   "id": "single-moisture",
   "metadata": {},
   "outputs": [],
   "source": [
    "foreground_mask = depth_img.reshape(-1) < 1"
   ]
  },
  {
   "cell_type": "code",
   "execution_count": null,
   "id": "immune-harris",
   "metadata": {},
   "outputs": [],
   "source": [
    "perspective_camera = get_perspective_camera(intrinsics, img_width, img_height)\n",
    "scene = setup_standard_scene(perspective_camera)\n",
    "scene.add(pyrender.Mesh.from_points(points[foreground_mask], colors=colors[foreground_mask]))"
   ]
  },
  {
   "cell_type": "code",
   "execution_count": null,
   "id": "initial-video",
   "metadata": {},
   "outputs": [],
   "source": [
    "pyrender.Viewer(scene, use_raymond_lighting=True, viewport_size=(img_width, img_height))"
   ]
  }
 ],
 "metadata": {
  "kernelspec": {
   "display_name": "Python 3",
   "language": "python",
   "name": "python3"
  },
  "language_info": {
   "codemirror_mode": {
    "name": "ipython",
    "version": 3
   },
   "file_extension": ".py",
   "mimetype": "text/x-python",
   "name": "python",
   "nbconvert_exporter": "python",
   "pygments_lexer": "ipython3",
   "version": "3.7.9"
  }
 },
 "nbformat": 4,
 "nbformat_minor": 5
}
