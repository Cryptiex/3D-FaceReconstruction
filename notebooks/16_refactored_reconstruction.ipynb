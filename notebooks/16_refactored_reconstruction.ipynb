{
 "cells": [
  {
   "cell_type": "code",
   "execution_count": null,
   "id": "atlantic-joint",
   "metadata": {},
   "outputs": [],
   "source": [
    "%cd ..\n",
    "%reload_ext autoreload\n",
    "%autoreload 2"
   ]
  },
  {
   "cell_type": "code",
   "execution_count": null,
   "id": "generous-energy",
   "metadata": {},
   "outputs": [],
   "source": [
    "import pyrender\n",
    "import matplotlib.pyplot as plt\n",
    "import numpy as np\n",
    "\n",
    "from face_reconstruction.optim import NearestNeighborMode, DistanceType, run_icp, run_icp_combined, BFMOptimization, \\\n",
    "    KeyframeOptimizationParameters, run_icp_keyframes, BFMOptimizationParameters\n",
    "from face_reconstruction.pipeline import BFMPreprocessor\n",
    "from face_reconstruction.plots import PlotManager, plot_params\n",
    "from face_reconstruction.graphics import draw_pixels_to_image\n",
    "from face_reconstruction.landmarks import detect_landmarks"
   ]
  },
  {
   "cell_type": "code",
   "execution_count": null,
   "id": "ecological-rouge",
   "metadata": {},
   "outputs": [],
   "source": [
    "frame_id = 36 # 69: smiling\n",
    "              # 86: o"
   ]
  },
  {
   "cell_type": "markdown",
   "id": "announced-brisbane",
   "metadata": {},
   "source": [
    "# 1. Parameters"
   ]
  },
  {
   "cell_type": "markdown",
   "id": "cooperative-organic",
   "metadata": {},
   "source": [
    "## 1.1. Sparse Reconstruction params"
   ]
  },
  {
   "cell_type": "code",
   "execution_count": null,
   "id": "existing-quilt",
   "metadata": {},
   "outputs": [],
   "source": [
    "n_params_shape_sparse = 30\n",
    "n_params_expression_sparse = 30\n",
    "weight_shape_params_sparse = 1000\n",
    "weight_expression_params_sparse = 1000\n",
    "l2_regularization_sparse = 1000"
   ]
  },
  {
   "cell_type": "markdown",
   "id": "sufficient-island",
   "metadata": {},
   "source": [
    "## 1.2. Dense Reconstruction params"
   ]
  },
  {
   "cell_type": "code",
   "execution_count": null,
   "id": "quiet-battery",
   "metadata": {},
   "outputs": [],
   "source": [
    "nn_mode = NearestNeighborMode.FACE_VERTICES  # FACE_VERTICES: every face vertex will be assigned its nearest neighbor in pointcloud\n",
    "# POINTCLOUD: every point in pointcloud will be assigned its nearest neighbor in face model\n",
    "distance_type = DistanceType.POINT_TO_POINT\n",
    "icp_iterations = 2\n",
    "optimization_steps_per_iteration = 10\n",
    "l2_regularization_dense = 4000  # 10000 for Lie\n",
    "\n",
    "n_params_shape_dense = 30\n",
    "n_params_expression_dense = 30\n",
    "weight_shape_params_dense = 100  # 10000, 10000000000 for POINT_TO_PLANE\n",
    "weight_expression_params_dense = 100  # 1000, 10000000000 for POINT_TO_PLANE\n",
    "\n",
    "weight_sparse_term = 10"
   ]
  },
  {
   "cell_type": "markdown",
   "id": "falling-phone",
   "metadata": {},
   "source": [
    "# 2. Preprocessing"
   ]
  },
  {
   "cell_type": "code",
   "execution_count": null,
   "id": "ordinary-inventory",
   "metadata": {},
   "outputs": [],
   "source": [
    "preprocessor = BFMPreprocessor()"
   ]
  },
  {
   "cell_type": "code",
   "execution_count": null,
   "id": "colored-cooling",
   "metadata": {},
   "outputs": [],
   "source": [
    "img, depth_img, intrinsics = preprocessor.load_frame(frame_id)\n",
    "pointcloud, pointcloud_normals, colors = preprocessor.to_3d(img, depth_img, intrinsics)\n",
    "landmark_points, bfm_landmark_indices, face_pointcloud, face_pointcloud_colors = preprocessor.detect_landmarks(img, depth_img, intrinsics, threshold_landmark_deviation=200, ignore_jawline=True)"
   ]
  },
  {
   "cell_type": "markdown",
   "id": "roman-albert",
   "metadata": {},
   "source": [
    "# 3. Face Reconstruction"
   ]
  },
  {
   "cell_type": "markdown",
   "id": "valuable-square",
   "metadata": {},
   "source": [
    "## 3.1. Sparse Reconstruction"
   ]
  },
  {
   "cell_type": "code",
   "execution_count": null,
   "id": "forced-communication",
   "metadata": {},
   "outputs": [],
   "source": [
    "sparse_optimizer = BFMOptimization(preprocessor.bfm,\n",
    "                                   n_params_shape=n_params_shape_sparse,\n",
    "                                   n_params_expression=n_params_expression_sparse,\n",
    "                                   weight_shape_params=weight_shape_params_sparse,\n",
    "                                   weight_expression_params=weight_expression_params_sparse,\n",
    "                                   rotation_mode='lie')"
   ]
  },
  {
   "cell_type": "code",
   "execution_count": null,
   "id": "threatened-exclusion",
   "metadata": {},
   "outputs": [],
   "source": [
    "initial_params = preprocessor.get_initial_params(sparse_optimizer)"
   ]
  },
  {
   "cell_type": "code",
   "execution_count": null,
   "id": "constitutional-agriculture",
   "metadata": {},
   "outputs": [],
   "source": [
    "sparse_loss = sparse_optimizer.create_sparse_loss_3d(bfm_landmark_indices, landmark_points, regularization_strength=l2_regularization_sparse)\n",
    "sparse_context = sparse_optimizer.create_optimization_context(sparse_loss, initial_params)\n",
    "result = sparse_context.run_optimization(sparse_loss, initial_params)\n",
    "params_sparse = sparse_context.create_parameters_from_theta(result.x)"
   ]
  },
  {
   "cell_type": "markdown",
   "id": "lucky-details",
   "metadata": {},
   "source": [
    "## 3.2. Dense Reconstruction"
   ]
  },
  {
   "cell_type": "code",
   "execution_count": null,
   "id": "conservative-storage",
   "metadata": {},
   "outputs": [],
   "source": [
    "dense_optimizer = BFMOptimization(preprocessor.bfm,\n",
    "                                  n_params_shape=n_params_shape_dense,\n",
    "                                  n_params_expression=n_params_expression_dense,\n",
    "                                  weight_shape_params=weight_shape_params_dense,\n",
    "                                  weight_expression_params=weight_expression_params_dense,\n",
    "                                  rotation_mode='lie')"
   ]
  },
  {
   "cell_type": "code",
   "execution_count": null,
   "id": "quiet-independence",
   "metadata": {},
   "outputs": [],
   "source": [
    "params_dense, distances, dense_param_history = run_icp_combined(dense_optimizer,\n",
    "                                                                bfm_landmark_indices,\n",
    "                                                                landmark_points,\n",
    "                                                                 face_pointcloud,\n",
    "                                                                 preprocessor.bfm,\n",
    "                                                                 params_sparse.with_new_manager(dense_optimizer),\n",
    "                                                                 max_iterations=icp_iterations,\n",
    "                                                                 nearest_neighbor_mode=nn_mode,\n",
    "                                                                 distance_type=distance_type,\n",
    "                                                                 max_nfev=optimization_steps_per_iteration,\n",
    "                                                                 l2_regularization=l2_regularization_dense,\n",
    "                                                                 pointcloud_normals=pointcloud_normals,\n",
    "                                                               weight_sparse_term=weight_sparse_term)"
   ]
  },
  {
   "cell_type": "markdown",
   "id": "armed-video",
   "metadata": {},
   "source": [
    "# 4. Plots"
   ]
  },
  {
   "cell_type": "code",
   "execution_count": null,
   "id": "regional-isaac",
   "metadata": {},
   "outputs": [],
   "source": [
    "params_plot = params_dense"
   ]
  },
  {
   "cell_type": "code",
   "execution_count": null,
   "id": "cutting-details",
   "metadata": {},
   "outputs": [],
   "source": [
    "scene = preprocessor.setup_scene(params_plot, show_pointcloud_face=False, show_landmarks=True, show_pointcloud=False)"
   ]
  },
  {
   "cell_type": "code",
   "execution_count": null,
   "id": "declared-diploma",
   "metadata": {},
   "outputs": [],
   "source": [
    "pyrender.Viewer(scene, use_raymond_lighting=True, viewport_size=(preprocessor.img_width, preprocessor.img_height))"
   ]
  },
  {
   "cell_type": "code",
   "execution_count": null,
   "id": "motivated-glenn",
   "metadata": {},
   "outputs": [],
   "source": [
    "plot_params(params_plot.expression_coefficients)"
   ]
  },
  {
   "cell_type": "code",
   "execution_count": null,
   "id": "angry-equilibrium",
   "metadata": {},
   "outputs": [],
   "source": [
    "plot_params(params_plot.shape_coefficients)"
   ]
  },
  {
   "cell_type": "code",
   "execution_count": null,
   "id": "cutting-russell",
   "metadata": {},
   "outputs": [],
   "source": [
    "landmarks_img, face_pos = detect_landmarks(preprocessor.img, return_face_pos=True)\n",
    "img_with_landmarks = np.array(preprocessor.img)\n",
    "draw_pixels_to_image(img_with_landmarks, landmarks_img, color=[0, 255, 0])"
   ]
  },
  {
   "cell_type": "code",
   "execution_count": null,
   "id": "divided-congo",
   "metadata": {},
   "outputs": [],
   "source": [
    "plt.imshow(img_with_landmarks)"
   ]
  },
  {
   "cell_type": "code",
   "execution_count": null,
   "id": "impossible-reputation",
   "metadata": {},
   "outputs": [],
   "source": [
    "plt.figure(figsize=(12, 8))\n",
    "plt.imshow(preprocessor.render_onto_img(params_plot, show_landmarks=True))"
   ]
  },
  {
   "cell_type": "code",
   "execution_count": null,
   "id": "gentle-appraisal",
   "metadata": {},
   "outputs": [],
   "source": [
    "error = preprocessor.plot_reconstruction_error(params_plot)\n",
    "plt.xlabel(f\"Mean Reconstruction Error: {error:.3f}\")"
   ]
  },
  {
   "cell_type": "code",
   "execution_count": null,
   "id": "floppy-dealer",
   "metadata": {},
   "outputs": [],
   "source": [
    "plot_manager = PlotManager.new_run(\"3d_dense_reconstruction\")\n",
    "preprocessor.store_param_history(plot_manager, '', dense_param_history)\n",
    "plot_manager.generate_video('iteration_', '.jpg')"
   ]
  },
  {
   "cell_type": "code",
   "execution_count": null,
   "id": "generic-puppy",
   "metadata": {},
   "outputs": [],
   "source": []
  }
 ],
 "metadata": {
  "kernelspec": {
   "display_name": "Python 3",
   "language": "python",
   "name": "python3"
  },
  "language_info": {
   "codemirror_mode": {
    "name": "ipython",
    "version": 3
   },
   "file_extension": ".py",
   "mimetype": "text/x-python",
   "name": "python",
   "nbconvert_exporter": "python",
   "pygments_lexer": "ipython3",
   "version": "3.7.9"
  }
 },
 "nbformat": 4,
 "nbformat_minor": 5
}
