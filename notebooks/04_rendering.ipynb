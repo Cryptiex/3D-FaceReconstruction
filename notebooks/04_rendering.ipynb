{
 "cells": [
  {
   "cell_type": "code",
   "execution_count": null,
   "id": "cultural-marijuana",
   "metadata": {},
   "outputs": [],
   "source": [
    "%cd ..\n",
    "%reload_ext autoreload\n",
    "%autoreload 2"
   ]
  },
  {
   "cell_type": "code",
   "execution_count": null,
   "id": "contrary-mustang",
   "metadata": {},
   "outputs": [],
   "source": [
    "import matplotlib.pyplot as plt\n",
    "import numpy as np\n",
    "import pyrender\n",
    "\n",
    "from face_reconstruction.graphics import SimpleImageRenderer, draw_pixels_to_image\n",
    "from face_reconstruction.landmarks import load_bfm_landmarks\n",
    "from face_reconstruction.model import BaselFaceModel"
   ]
  },
  {
   "cell_type": "markdown",
   "id": "fiscal-holocaust",
   "metadata": {},
   "source": [
    "# 1. Load Basel Face model"
   ]
  },
  {
   "cell_type": "code",
   "execution_count": null,
   "id": "another-hanging",
   "metadata": {},
   "outputs": [],
   "source": [
    "bfm = BaselFaceModel.from_h5(\"model2019_face12.h5\")\n",
    "bfm_landmarks = load_bfm_landmarks(\"model2019_face12_landmarks_v2\")\n",
    "bfm_landmark_indices = list(bfm_landmarks.values())"
   ]
  },
  {
   "cell_type": "code",
   "execution_count": null,
   "id": "substantial-witch",
   "metadata": {},
   "outputs": [],
   "source": [
    "n_shape_coefficients = bfm.get_n_shape_coefficients()\n",
    "n_expression_coefficients = bfm.get_n_expression_coefficients()\n",
    "n_color_coefficients = bfm.get_n_color_coefficients()"
   ]
  },
  {
   "cell_type": "code",
   "execution_count": null,
   "id": "characteristic-cameroon",
   "metadata": {},
   "outputs": [],
   "source": [
    "shape_coefficients = [0 for _ in range(n_shape_coefficients)]\n",
    "expression_coefficients = [0 for _ in range(n_expression_coefficients)]\n",
    "color_coefficients = [0 for _ in range(n_color_coefficients)]\n",
    "\n",
    "face_mesh = bfm.draw_sample(shape_coefficients, expression_coefficients, color_coefficients)\n",
    "face_trimesh = bfm.convert_to_trimesh(face_mesh)"
   ]
  },
  {
   "cell_type": "code",
   "execution_count": null,
   "id": "given-preference",
   "metadata": {},
   "outputs": [],
   "source": [
    "# This is how we can reconstruct the draw_sample method in case we need differentiable rendering\n",
    "reconstructed = bfm.shape_model.get_mean() + bfm.expression_model.get_mean()\n",
    "reconstructed = reconstructed.reshape((-1, 3))"
   ]
  },
  {
   "cell_type": "code",
   "execution_count": null,
   "id": "useful-hamburg",
   "metadata": {},
   "outputs": [],
   "source": [
    "img_width = 480\n",
    "img_height = 640"
   ]
  },
  {
   "cell_type": "markdown",
   "id": "computational-proportion",
   "metadata": {},
   "source": [
    "# 2. Render the face model"
   ]
  },
  {
   "cell_type": "code",
   "execution_count": null,
   "id": "lucky-spoke",
   "metadata": {},
   "outputs": [],
   "source": [
    "perspective_camera = pyrender.PerspectiveCamera(yfov=np.pi / 3.0)\n",
    "projection_matrix = perspective_camera.get_projection_matrix(width=img_width, height=img_height)\n",
    "projection_matrix"
   ]
  },
  {
   "cell_type": "code",
   "execution_count": null,
   "id": "corresponding-singer",
   "metadata": {},
   "outputs": [],
   "source": [
    "initial_camera_pose = np.array([[1, 0, 0, 0], [0, 1, 0, 0], [0, 0, 1, -300], [0, 0, 0, 1]]) # position camera just in front of face"
   ]
  },
  {
   "cell_type": "code",
   "execution_count": null,
   "id": "gothic-northwest",
   "metadata": {},
   "outputs": [],
   "source": [
    "renderer = SimpleImageRenderer(projection_matrix, img_width, img_height)"
   ]
  },
  {
   "cell_type": "code",
   "execution_count": null,
   "id": "optimum-attack",
   "metadata": {},
   "outputs": [],
   "source": [
    "test_pixels = renderer.project_points(initial_camera_pose, face_mesh.vertices)\n",
    "\n",
    "test_img = np.zeros((img_height, img_width))\n",
    "draw_pixels_to_image(test_img, test_pixels)\n",
    "plt.figure(figsize=(12, 8))\n",
    "plt.imshow(test_img)\n",
    "plt.show()"
   ]
  }
 ],
 "metadata": {
  "kernelspec": {
   "display_name": "Python 3",
   "language": "python",
   "name": "python3"
  },
  "language_info": {
   "codemirror_mode": {
    "name": "ipython",
    "version": 3
   },
   "file_extension": ".py",
   "mimetype": "text/x-python",
   "name": "python",
   "nbconvert_exporter": "python",
   "pygments_lexer": "ipython3",
   "version": "3.7.9"
  }
 },
 "nbformat": 4,
 "nbformat_minor": 5
}
