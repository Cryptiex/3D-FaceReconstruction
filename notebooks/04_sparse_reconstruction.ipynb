{
 "cells": [
  {
   "cell_type": "code",
   "execution_count": 1,
   "metadata": {},
   "outputs": [
    {
     "name": "stdout",
     "output_type": "stream",
     "text": [
      "D:\\ownCloud\\Uni\\Semester Ma 5\\3D Scanning & Motion Capture (IN2354)\\Project\\3D-FaceReconstruction\n"
     ]
    }
   ],
   "source": [
    "%cd ..\n",
    "%reload_ext autoreload\n",
    "%autoreload 2"
   ]
  },
  {
   "cell_type": "code",
   "execution_count": 4,
   "metadata": {},
   "outputs": [],
   "source": [
    "from face_reconstruction.landmarks import load_landmarks\n",
    "from face_reconstruction.model import BaselFaceModel"
   ]
  },
  {
   "cell_type": "code",
   "execution_count": 3,
   "metadata": {},
   "outputs": [],
   "source": [
    "landmarks = load_landmarks(\"model2019_face12_landmarks\")"
   ]
  },
  {
   "cell_type": "code",
   "execution_count": 6,
   "metadata": {},
   "outputs": [],
   "source": [
    "bfm = BaselFaceModel.from_h5(\"model2019_face12.h5\")"
   ]
  },
  {
   "cell_type": "code",
   "execution_count": 7,
   "metadata": {},
   "outputs": [
    {
     "data": {
      "text/plain": [
       "{1: 12550,\n",
       " 2: 25563,\n",
       " 3: 11735,\n",
       " 4: 107,\n",
       " 5: 2926,\n",
       " 6: 585,\n",
       " 7: 26043,\n",
       " 8: 23314,\n",
       " 9: 429,\n",
       " 10: 5494,\n",
       " 11: 4710,\n",
       " 12: 361,\n",
       " 13: 11847,\n",
       " 14: 18345,\n",
       " 15: 20967,\n",
       " 16: 14965,\n",
       " 17: 26053,\n",
       " 18: 22083,\n",
       " 19: 10487,\n",
       " 20: 27365,\n",
       " 21: 5909,\n",
       " 22: 24076,\n",
       " 23: 23596,\n",
       " 24: 22244,\n",
       " 25: 24263,\n",
       " 26: 24301,\n",
       " 27: 17422,\n",
       " 28: 26082,\n",
       " 29: 24204,\n",
       " 30: 4580,\n",
       " 31: 45,\n",
       " 32: 27273,\n",
       " 33: 1081,\n",
       " 34: 24839,\n",
       " 35: 21702,\n",
       " 36: 12561,\n",
       " 37: 6898,\n",
       " 38: 6740,\n",
       " 39: 14119,\n",
       " 40: 16732,\n",
       " 41: 23309,\n",
       " 42: 24290,\n",
       " 43: 20843,\n",
       " 44: 26598,\n",
       " 45: 14406,\n",
       " 46: 5534,\n",
       " 47: 11246,\n",
       " 48: 19783,\n",
       " 49: 11660,\n",
       " 50: 12568,\n",
       " 51: 25963,\n",
       " 52: 1104,\n",
       " 53: 7951,\n",
       " 54: 12703,\n",
       " 55: 4945,\n",
       " 56: 24720,\n",
       " 57: 7451,\n",
       " 58: 22167,\n",
       " 59: 6942,\n",
       " 60: 25919,\n",
       " 61: 15130,\n",
       " 62: 14765,\n",
       " 63: 19732,\n",
       " 64: 2225,\n",
       " 65: 9718,\n",
       " 66: 17791,\n",
       " 67: 13689,\n",
       " 68: 4140}"
      ]
     },
     "execution_count": 7,
     "metadata": {},
     "output_type": "execute_result"
    }
   ],
   "source": [
    "landmarks"
   ]
  }
 ],
 "metadata": {
  "kernelspec": {
   "display_name": "Python 3",
   "language": "python",
   "name": "python3"
  },
  "language_info": {
   "codemirror_mode": {
    "name": "ipython",
    "version": 3
   },
   "file_extension": ".py",
   "mimetype": "text/x-python",
   "name": "python",
   "nbconvert_exporter": "python",
   "pygments_lexer": "ipython3",
   "version": "3.7.9"
  }
 },
 "nbformat": 4,
 "nbformat_minor": 4
}
