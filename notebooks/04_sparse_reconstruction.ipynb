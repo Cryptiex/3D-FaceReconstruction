{
 "cells": [
  {
   "cell_type": "code",
   "execution_count": 2,
   "metadata": {},
   "outputs": [
    {
     "name": "stdout",
     "output_type": "stream",
     "text": [
      "D:\\ownCloud\\Uni\\Semester Ma 5\\3D Scanning & Motion Capture (IN2354)\\Project\\3D-FaceReconstruction\n"
     ]
    }
   ],
   "source": [
    "%cd ..\n",
    "%reload_ext autoreload\n",
    "%autoreload 2"
   ]
  },
  {
   "cell_type": "code",
   "execution_count": 208,
   "metadata": {},
   "outputs": [],
   "source": [
    "import numpy as np\n",
    "import trimesh\n",
    "import dlib\n",
    "import cv2\n",
    "import pyrender\n",
    "import matplotlib.pyplot as plt\n",
    "\n",
    "from scipy import optimize\n",
    "\n",
    "from face_reconstruction.landmarks import load_bfm_landmarks, detect_landmarks\n",
    "from face_reconstruction.model import BaselFaceModel\n",
    "\n",
    "from env import DATA_PATH, MODELS_PATH"
   ]
  },
  {
   "cell_type": "markdown",
   "metadata": {},
   "source": [
    "# 1. Face Model"
   ]
  },
  {
   "cell_type": "code",
   "execution_count": 316,
   "metadata": {},
   "outputs": [],
   "source": [
    "bfm = BaselFaceModel.from_h5(\"model2019_face12.h5\")\n",
    "bfm_landmarks = load_bfm_landmarks(\"model2019_face12_landmarks\")"
   ]
  },
  {
   "cell_type": "code",
   "execution_count": 6,
   "metadata": {},
   "outputs": [],
   "source": [
    "n_shape_coefficients = bfm.get_n_shape_coefficients()\n",
    "n_expression_coefficients = bfm.get_n_expression_coefficients()\n",
    "n_color_coefficients = bfm.get_n_color_coefficients()"
   ]
  },
  {
   "cell_type": "code",
   "execution_count": 7,
   "metadata": {},
   "outputs": [],
   "source": [
    "shape_coefficients = [0 for _ in range(n_shape_coefficients)]\n",
    "expression_coefficients = [0 for _ in range(n_expression_coefficients)]\n",
    "color_coefficients = [0 for _ in range(n_color_coefficients)]"
   ]
  },
  {
   "cell_type": "code",
   "execution_count": 8,
   "metadata": {},
   "outputs": [],
   "source": [
    "face_mesh = bfm.draw_sample(shape_coefficients, expression_coefficients, color_coefficients)\n",
    "face_trimesh = bfm.convert_to_trimesh(face_mesh)"
   ]
  },
  {
   "cell_type": "code",
   "execution_count": 9,
   "metadata": {},
   "outputs": [],
   "source": [
    "reconstructed = bfm.shape_model.get_mean() + bfm.expression_model.get_mean()\n",
    "reconstructed = reconstructed.reshape((-1, 3))"
   ]
  },
  {
   "cell_type": "markdown",
   "metadata": {},
   "source": [
    "# 2. Input image"
   ]
  },
  {
   "cell_type": "code",
   "execution_count": 55,
   "metadata": {},
   "outputs": [],
   "source": [
    "img_path = f\"{DATA_PATH}/Keypoint Detection/trump.jpg\"\n",
    "img = cv2.imread(img_path)"
   ]
  },
  {
   "cell_type": "code",
   "execution_count": 66,
   "metadata": {},
   "outputs": [],
   "source": [
    "landmarks_img = detect_landmarks(img)"
   ]
  },
  {
   "cell_type": "code",
   "execution_count": 101,
   "metadata": {},
   "outputs": [],
   "source": [
    "img_width = img.shape[1]\n",
    "img_height = img.shape[0]"
   ]
  },
  {
   "cell_type": "code",
   "execution_count": null,
   "metadata": {},
   "outputs": [],
   "source": []
  },
  {
   "cell_type": "code",
   "execution_count": 287,
   "metadata": {},
   "outputs": [
    {
     "data": {
      "text/plain": [
       "array([[ 2.19550972,  0.        ,  0.        ,  0.        ],\n",
       "       [ 0.        ,  1.73205081,  0.        ,  0.        ],\n",
       "       [ 0.        ,  0.        , -1.        , -0.1       ],\n",
       "       [ 0.        ,  0.        , -1.        ,  0.        ]])"
      ]
     },
     "execution_count": 287,
     "metadata": {},
     "output_type": "execute_result"
    }
   ],
   "source": [
    "perspective_camera = pyrender.PerspectiveCamera(yfov=np.pi / 3.0)\n",
    "projection_matrix = perspective_camera.get_projection_matrix(width=img_width, height=img_height)\n",
    "projection_matrix"
   ]
  },
  {
   "cell_type": "code",
   "execution_count": 303,
   "metadata": {},
   "outputs": [],
   "source": [
    "initial_camera_position = np.array([[1, 0, 0, 0], [0, 1, 0, 0], [0, 0, 1, -300], [0, 0, 0, 1]]) # position camera just in front of face"
   ]
  },
  {
   "cell_type": "code",
   "execution_count": 89,
   "metadata": {},
   "outputs": [],
   "source": []
  },
  {
   "cell_type": "code",
   "execution_count": 311,
   "metadata": {},
   "outputs": [],
   "source": [
    "def project_points(points):\n",
    "    if not isinstance(points, np.ndarray):\n",
    "        points = np.array(points)\n",
    "    if points.shape[1] == 3:\n",
    "        points = np.hstack((points, np.ones((points.shape[0], 1), dtype=points.dtype)))\n",
    "    points_projected = projection_matrix @ initial_camera_position @ points.T\n",
    "    points_screen = points_projected / points_projected[2,:]\n",
    "    points_screen[1, :] = -points_screen[1, :]\n",
    "    points_pixels = (points_screen + 1) / 2 * np.array([[img_width], [img_height], [0], [0]])\n",
    "    points_pixels = points_pixels[:2,:].T\n",
    "    points_pixels = np.rint(points_pixels).astype(int)\n",
    "    return points_pixels"
   ]
  },
  {
   "cell_type": "code",
   "execution_count": 279,
   "metadata": {},
   "outputs": [],
   "source": [
    "points = np.zeros((100, 4))\n",
    "points[:25] = np.array([[i, 5, 0, 1] for i in range(25)])\n",
    "points[25:50] = np.array([[0, 5 + i, 0, 1] for i in range(25)])\n",
    "points[50:75] = np.array([[0 + i, 5 + 25, 0, 1] for i in range(25)])\n",
    "points[75:] = np.array([[0 + 25, 5 + i, 0, 1] for i in range(25)])"
   ]
  },
  {
   "cell_type": "code",
   "execution_count": 328,
   "metadata": {},
   "outputs": [],
   "source": [
    "landmark_points = np.array(face_mesh.vertices)[list(bfm_landmarks.values())]"
   ]
  },
  {
   "cell_type": "code",
   "execution_count": 329,
   "metadata": {},
   "outputs": [],
   "source": [
    "points_pixels = project_points(landmark_points)"
   ]
  },
  {
   "cell_type": "code",
   "execution_count": 312,
   "metadata": {},
   "outputs": [],
   "source": [
    "points_pixels = project_points(face_mesh.vertices)"
   ]
  },
  {
   "cell_type": "code",
   "execution_count": 293,
   "metadata": {},
   "outputs": [],
   "source": [
    "points_pixels = project_points(points)"
   ]
  },
  {
   "cell_type": "code",
   "execution_count": 330,
   "metadata": {},
   "outputs": [],
   "source": [
    "test_img = np.zeros((img_height, img_width))\n",
    "for pixel in points_pixels:\n",
    "    \n",
    "    if pixel[0] >= 0 and pixel[0] < img_width and pixel[1] >= 0 and pixel[1] < img_height:\n",
    "        test_img[pixel[1], pixel[0]] = 1"
   ]
  },
  {
   "cell_type": "code",
   "execution_count": 331,
   "metadata": {},
   "outputs": [
    {
     "data": {
      "text/plain": [
       "<matplotlib.image.AxesImage at 0x1f0b5d0c188>"
      ]
     },
     "execution_count": 331,
     "metadata": {},
     "output_type": "execute_result"
    },
    {
     "data": {
      "image/png": "[encoded data removed]",
      "text/plain": [
       "<Figure size 864x576 with 1 Axes>"
      ]
     },
     "metadata": {
      "needs_background": "light"
     },
     "output_type": "display_data"
    }
   ],
   "source": [
    "plt.figure(figsize=(12, 8))\n",
    "plt.imshow(test_img)"
   ]
  },
  {
   "cell_type": "code",
   "execution_count": 48,
   "metadata": {},
   "outputs": [],
   "source": [
    "class OptimizationParameters:\n",
    "    \n",
    "    def __init__(self, theta):\n",
    "        self.shape_coefficients = theta[:n_shape_coefficients]\n",
    "        self.expression_coefficients = theta[n_shape_coefficients:n_shape_coefficients + n_expression_coefficients]"
   ]
  },
  {
   "cell_type": "code",
   "execution_count": 46,
   "metadata": {},
   "outputs": [],
   "source": [
    "def loss(theta, *args, **kwargs):\n",
    "    shape_coefficients = theta[:n_shape_coefficients]\n",
    "    expression_coefficients = theta[n_shape_coefficients ]"
   ]
  },
  {
   "cell_type": "code",
   "execution_count": 47,
   "metadata": {},
   "outputs": [
    {
     "data": {
      "text/plain": [
       " active_mask: array([0.])\n",
       "        cost: 0.0\n",
       "         fun: array([0.])\n",
       "        grad: array([0.])\n",
       "         jac: array([[2.00000001]])\n",
       "     message: '`gtol` termination condition is satisfied.'\n",
       "        nfev: 12\n",
       "        njev: 12\n",
       "  optimality: 0.0\n",
       "      status: 1\n",
       "     success: True\n",
       "           x: array([1.])"
      ]
     },
     "execution_count": 47,
     "metadata": {},
     "output_type": "execute_result"
    }
   ],
   "source": [
    "optimize.least_squares(loss, np.array([100]))"
   ]
  },
  {
   "cell_type": "code",
   "execution_count": null,
   "metadata": {},
   "outputs": [],
   "source": []
  }
 ],
 "metadata": {
  "kernelspec": {
   "display_name": "Python 3",
   "language": "python",
   "name": "python3"
  },
  "language_info": {
   "codemirror_mode": {
    "name": "ipython",
    "version": 3
   },
   "file_extension": ".py",
   "mimetype": "text/x-python",
   "name": "python",
   "nbconvert_exporter": "python",
   "pygments_lexer": "ipython3",
   "version": "3.7.9"
  }
 },
 "nbformat": 4,
 "nbformat_minor": 4
}
