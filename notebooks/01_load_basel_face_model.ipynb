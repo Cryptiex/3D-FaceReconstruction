{
 "cells": [
  {
   "cell_type": "code",
   "execution_count": null,
   "metadata": {
    "collapsed": false,
    "jupyter": {
     "outputs_hidden": false
    },
    "pycharm": {
     "name": "#%%\n"
    }
   },
   "outputs": [],
   "source": [
    "%cd ..\n",
    "%reload_ext autoreload\n",
    "%autoreload 2"
   ]
  },
  {
   "cell_type": "code",
   "execution_count": null,
   "metadata": {
    "pycharm": {
     "name": "#%%\n"
    }
   },
   "outputs": [],
   "source": [
    "import eos\n",
    "import h5py\n",
    "import matplotlib.pyplot as plt\n",
    "import numpy as np\n",
    "import pyrender\n",
    "import trimesh\n",
    "from face_reconstruction.model import BaselFaceModel\n",
    "\n",
    "from env import BASEL_FACE_MODEL_PATH"
   ]
  },
  {
   "cell_type": "markdown",
   "metadata": {},
   "source": [
    "# 1. Load the face model\n",
    "The Basel Face Model comes in 3 different versions:\n",
    " - Face mask without ears `face12.h5`\n",
    " - Face mask with ears `bfm.h5`\n",
    " - Full head model `fullHead.h5`"
   ]
  },
  {
   "cell_type": "code",
   "execution_count": null,
   "metadata": {},
   "outputs": [],
   "source": [
    "h5 = h5py.File(f\"{BASEL_FACE_MODEL_PATH}/model2019_face12.h5\")\n",
    "#h5 = h5py.File(f\"{BASEL_FACE_MODEL_PATH}/model2019_bfm.h5\")\n",
    "#h5 = h5py.File(f\"{BASEL_FACE_MODEL_PATH}/model2019_fullHead.h5\")"
   ]
  },
  {
   "cell_type": "code",
   "execution_count": null,
   "metadata": {},
   "outputs": [],
   "source": [
    "def print_keys_rec(node, level=0):\n",
    "    if hasattr(node, 'keys'):\n",
    "        for k in node.keys():\n",
    "            if hasattr(node[k], 'keys'):\n",
    "                print(''.join(['  ']*level) + '- ' + k)\n",
    "                print_keys_rec(node[k], level + 1)\n",
    "            else:\n",
    "                print(''.join(['  ']*level) + '- ' + k + ': ' + str(node[k]))"
   ]
  },
  {
   "cell_type": "markdown",
   "metadata": {},
   "source": [
    "## 1.1. Investigate the file structure"
   ]
  },
  {
   "cell_type": "code",
   "execution_count": null,
   "metadata": {},
   "outputs": [],
   "source": [
    "print_keys_rec(h5)"
   ]
  },
  {
   "cell_type": "markdown",
   "metadata": {},
   "source": [
    "# 2. Build the model\n",
    "It is comprised of 3 parts: A shape model, a color model and an expression model"
   ]
  },
  {
   "cell_type": "code",
   "execution_count": null,
   "metadata": {},
   "outputs": [],
   "source": [
    "print(f\"Number of vertices in face model: \", h5['shape/model/mean'][()].shape[0] / 3) # Is the vertex information divided into groups of 3 (x, y, z)?"
   ]
  },
  {
   "cell_type": "code",
   "execution_count": null,
   "metadata": {},
   "outputs": [],
   "source": [
    "bfm = BaselFaceModel.from_h5(\"model2019_face12.h5\")"
   ]
  },
  {
   "cell_type": "markdown",
   "metadata": {},
   "source": [
    "If you get a `MemoryError: bad allocation`, restart the notebook"
   ]
  },
  {
   "cell_type": "markdown",
   "metadata": {},
   "source": [
    "# 3. Sample a 3D face from the model using some coefficients"
   ]
  },
  {
   "cell_type": "code",
   "execution_count": null,
   "metadata": {},
   "outputs": [],
   "source": [
    "n_shape_coefficients = bfm.get_n_shape_coefficients()\n",
    "n_expression_coefficients = bfm.get_n_expression_coefficients()\n",
    "n_color_coefficients = bfm.get_n_color_coefficients()"
   ]
  },
  {
   "cell_type": "code",
   "execution_count": null,
   "metadata": {},
   "outputs": [],
   "source": [
    "face_mesh = bfm.draw_sample(\n",
    "    shape_coefficients=[0.9 for _ in range(n_shape_coefficients)], \n",
    "    expression_coefficients=[0.1 for _ in range(n_expression_coefficients)], \n",
    "    color_coefficients=[0.9 for _ in range(n_color_coefficients)])"
   ]
  },
  {
   "cell_type": "code",
   "execution_count": null,
   "metadata": {},
   "outputs": [],
   "source": [
    "face_trimesh = bfm.convert_to_trimesh(face_mesh)"
   ]
  },
  {
   "cell_type": "markdown",
   "metadata": {},
   "source": [
    "# 4. Render the 3D face interactively"
   ]
  },
  {
   "cell_type": "markdown",
   "metadata": {},
   "source": [
    "To get Pyrender running in Windows: \n",
    "Change in `pyrender/platforms/pyglet_platform.py`\n",
    "```{python}\n",
    "def make_uncurrent(self):\n",
    "    try:\n",
    "        import pyglet.gl.xlib\n",
    "        pyglet.gl.xlib.glx.glXMakeContextCurrent(self._window.context.x_display, 0, 0, None)\n",
    "    except:\n",
    "        pass\n",
    "```"
   ]
  },
  {
   "cell_type": "code",
   "execution_count": null,
   "metadata": {},
   "outputs": [],
   "source": [
    "perspective_camera = pyrender.PerspectiveCamera(yfov=np.pi / 3.0, aspectRatio=1.414)\n",
    "directional_light = pyrender.DirectionalLight(color=[1.0, 1.0, 1.0], intensity=2.0)"
   ]
  },
  {
   "cell_type": "code",
   "execution_count": null,
   "metadata": {},
   "outputs": [],
   "source": [
    "scene = pyrender.Scene()\n",
    "scene.add(pyrender.Mesh.from_trimesh(face_trimesh))\n",
    "scene.add(perspective_camera, pose=np.array([[1, 0, 0, 0], [0, 1, 0, 0], [0, 0, 1, 300], [0, 0, 0, 1]])) # Position camera just in front of face\n",
    "scene.add(directional_light)"
   ]
  },
  {
   "cell_type": "code",
   "execution_count": null,
   "metadata": {},
   "outputs": [],
   "source": [
    "pyrender.Viewer(scene, use_raymond_lighting=True)"
   ]
  },
  {
   "cell_type": "markdown",
   "metadata": {},
   "source": [
    "# 5. Render random 3D faces into images"
   ]
  },
  {
   "cell_type": "code",
   "execution_count": null,
   "metadata": {
    "pycharm": {
     "name": "#%%\n"
    }
   },
   "outputs": [],
   "source": [
    "for _ in range(10):\n",
    "    r = pyrender.OffscreenRenderer(1200, 800)\n",
    "    scene = pyrender.Scene()\n",
    "\n",
    "    scene.add(perspective_camera, pose=np.array([[1, 0, 0, 0], [0, 1, 0, 0], [0, 0, 1, 300], [0, 0, 0, 1]]))  # Position camera just in front of face\n",
    "    scene.add(directional_light)\n",
    "    face_mesh = bfm.draw_sample(\n",
    "        shape_coefficients=np.random.uniform(low=-2, high=2, size=n_shape_coefficients),\n",
    "        expression_coefficients=np.random.uniform(low=-2, high=2, size=n_expression_coefficients),\n",
    "        color_coefficients=np.random.uniform(low=-2, high=2, size=n_color_coefficients), )\n",
    "    face_trimesh = trimesh.Trimesh(vertices=face_mesh.vertices, faces=face_mesh.tvi, vertex_colors=face_mesh.colors, face_colors=face_mesh.colors)\n",
    "    scene.add(pyrender.Mesh.from_trimesh(face_trimesh))\n",
    "\n",
    "    color, depth = r.render(scene)\n",
    "    plt.figure(figsize=(12, 8))\n",
    "    plt.imshow(color)\n",
    "    plt.show()\n",
    "    r.delete()"
   ]
  }
 ],
 "metadata": {
  "kernelspec": {
   "display_name": "Python 3",
   "language": "python",
   "name": "python3"
  },
  "language_info": {
   "codemirror_mode": {
    "name": "ipython",
    "version": 3
   },
   "file_extension": ".py",
   "mimetype": "text/x-python",
   "name": "python",
   "nbconvert_exporter": "python",
   "pygments_lexer": "ipython3",
   "version": "3.7.9"
  }
 },
 "nbformat": 4,
 "nbformat_minor": 4
}
