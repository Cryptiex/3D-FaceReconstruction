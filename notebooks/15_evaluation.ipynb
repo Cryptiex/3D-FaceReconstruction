{
 "cells": [
  {
   "cell_type": "markdown",
   "id": "baking-bedroom",
   "metadata": {},
   "source": [
    "Provides easy ways to visualize and plot frames that were run via `video_reconstruction`"
   ]
  },
  {
   "cell_type": "code",
   "execution_count": null,
   "id": "loose-emphasis",
   "metadata": {},
   "outputs": [],
   "source": [
    "%cd ..\n",
    "%reload_ext autoreload\n",
    "%autoreload 2"
   ]
  },
  {
   "cell_type": "code",
   "execution_count": null,
   "id": "amateur-fifteen",
   "metadata": {},
   "outputs": [],
   "source": [
    "import pyrender\n",
    "import numpy as np\n",
    "import matplotlib.pyplot as plt\n",
    "from matplotlib import gridspec\n",
    "\n",
    "from face_reconstruction.plots import PlotManager, plot_params\n",
    "from face_reconstruction.model import BaselFaceModel\n",
    "from face_reconstruction.pipeline import BFMPreprocessor\n",
    "from face_reconstruction.utils.io import list_file_numbering\n",
    "from face_reconstruction.landmarks import detect_landmarks\n",
    "from face_reconstruction.graphics import draw_pixels_to_image\n",
    "from env import PLOTS_PATH"
   ]
  },
  {
   "cell_type": "markdown",
   "id": "engaging-colorado",
   "metadata": {},
   "source": [
    "# 1. Load run"
   ]
  },
  {
   "cell_type": "code",
   "execution_count": null,
   "id": "roman-approach",
   "metadata": {},
   "outputs": [],
   "source": [
    "run_id = 23"
   ]
  },
  {
   "cell_type": "code",
   "execution_count": null,
   "id": "removable-harmony",
   "metadata": {},
   "outputs": [],
   "source": [
    "plot_manager = PlotManager(f\"video_reconstruction/run-{run_id}\")\n",
    "preprocessor = BFMPreprocessor()"
   ]
  },
  {
   "cell_type": "markdown",
   "id": "boxed-salon",
   "metadata": {},
   "source": [
    "# 2. Helper functions"
   ]
  },
  {
   "cell_type": "code",
   "execution_count": null,
   "id": "confidential-promotion",
   "metadata": {},
   "outputs": [],
   "source": [
    "def load_params(frame_id):\n",
    "    return plot_manager.load_params(f\"params_{frame_id:04d}\", preprocessor.bfm)"
   ]
  },
  {
   "cell_type": "code",
   "execution_count": null,
   "id": "amended-candle",
   "metadata": {},
   "outputs": [],
   "source": [
    "def load_param_history(frame_id):\n",
    "    return plot_manager.load_param_history(f\"param_history_{frame_id:04d}\", preprocessor.bfm)"
   ]
  },
  {
   "cell_type": "code",
   "execution_count": null,
   "id": "silver-disco",
   "metadata": {},
   "outputs": [],
   "source": [
    "def plot_reconstruction_error(frame_id):\n",
    "    preprocessor.load_frame(frame_id)\n",
    "    preprocessor.to_3d()\n",
    "    error = preprocessor.plot_reconstruction_error(load_params(frame_id))\n",
    "    plt.xlabel(f\"Mean Reconstruction Error: {error:.3f}\")"
   ]
  },
  {
   "cell_type": "code",
   "execution_count": null,
   "id": "hundred-gathering",
   "metadata": {},
   "outputs": [],
   "source": [
    "def plot_rgb(frame_id):\n",
    "    preprocessor.load_frame(frame_id)\n",
    "    plt.imshow(preprocessor.img)"
   ]
  },
  {
   "cell_type": "code",
   "execution_count": null,
   "id": "applicable-consciousness",
   "metadata": {},
   "outputs": [],
   "source": [
    "def plot_rgb_with_landmarks(frame_id):\n",
    "    preprocessor.load_frame(frame_id)\n",
    "    landmarks_img = np.array(preprocessor.img)\n",
    "    landmarks = detect_landmarks(landmarks_img)\n",
    "    draw_pixels_to_image(landmarks_img, landmarks, color=[0, 255, 0])\n",
    "    plt.imshow(landmarks_img)"
   ]
  },
  {
   "cell_type": "code",
   "execution_count": null,
   "id": "exciting-textbook",
   "metadata": {},
   "outputs": [],
   "source": [
    "def plot_depth(frame_id):\n",
    "    preprocessor.load_frame(frame_id)\n",
    "    plt.imshow(preprocessor.depth_img)"
   ]
  },
  {
   "cell_type": "code",
   "execution_count": null,
   "id": "nonprofit-agency",
   "metadata": {},
   "outputs": [],
   "source": [
    "def plot_mask(frame_id):\n",
    "    preprocessor.load_frame(frame_id)\n",
    "    preprocessor.to_3d()\n",
    "    img_with_mask = preprocessor.render_onto_img(load_params(frame_id))\n",
    "    plt.imshow(img_with_mask)"
   ]
  },
  {
   "cell_type": "code",
   "execution_count": null,
   "id": "interesting-enough",
   "metadata": {},
   "outputs": [],
   "source": [
    "def generate_param_history_video(frame_id):\n",
    "    ph = load_param_history(frame_id)\n",
    "    preprocessor.load_frame(frame_id)\n",
    "    preprocessor.to_3d()\n",
    "    preprocessor.store_param_history(plot_manager, f\"param_history/{frame_id}/\", ph)\n",
    "    plot_manager.cd(f\"param_history/{frame_id}/\").generate_video('iteration_', '.jpg')"
   ]
  },
  {
   "cell_type": "code",
   "execution_count": null,
   "id": "fallen-scene",
   "metadata": {},
   "outputs": [],
   "source": [
    "def get_frames():\n",
    "    return list_file_numbering(f\"{PLOTS_PATH}/video_reconstruction/run-{run_id}\", 'frame_', '.jpg')"
   ]
  },
  {
   "cell_type": "markdown",
   "id": "skilled-characteristic",
   "metadata": {},
   "source": [
    "# 3. Example plots"
   ]
  },
  {
   "cell_type": "code",
   "execution_count": null,
   "id": "unique-original",
   "metadata": {},
   "outputs": [],
   "source": [
    "plot_reconstruction_error(0)"
   ]
  },
  {
   "cell_type": "code",
   "execution_count": null,
   "id": "underlying-christianity",
   "metadata": {},
   "outputs": [],
   "source": [
    "plot_rgb(1)"
   ]
  },
  {
   "cell_type": "code",
   "execution_count": null,
   "id": "confident-workplace",
   "metadata": {},
   "outputs": [],
   "source": [
    "plot_depth(1)"
   ]
  },
  {
   "cell_type": "code",
   "execution_count": null,
   "id": "activated-filename",
   "metadata": {},
   "outputs": [],
   "source": [
    "plot_mask(0)"
   ]
  },
  {
   "cell_type": "markdown",
   "id": "noted-theory",
   "metadata": {},
   "source": [
    "# 4. Generate final plots for all frames"
   ]
  },
  {
   "cell_type": "code",
   "execution_count": null,
   "id": "russian-treasurer",
   "metadata": {},
   "outputs": [],
   "source": [
    "gs = gridspec.GridSpec(2, 4, height_ratios=[3, 1]) \n",
    "gs2 = gridspec.GridSpec(2, 2, height_ratios=[3, 1]) "
   ]
  },
  {
   "cell_type": "code",
   "execution_count": null,
   "id": "understood-worcester",
   "metadata": {},
   "outputs": [],
   "source": [
    "for frame_id in get_frames():\n",
    "\n",
    "    fig = plt.figure(figsize=(20, 10))\n",
    "\n",
    "    fig.add_subplot(gs[0])\n",
    "    plt.title('RGB Input')\n",
    "    plt.tick_params(axis='both', which='both', bottom=False, top=False, labelbottom=False, right=False, left=False, labelleft=False)\n",
    "    plot_rgb(frame_id)\n",
    "\n",
    "    fig.add_subplot(gs[1])\n",
    "    plt.title('Depth Input')\n",
    "    plt.tick_params(axis='both', which='both', bottom=False, top=False, labelbottom=False, right=False, left=False, labelleft=False)\n",
    "    plot_depth(frame_id)\n",
    "\n",
    "    fig.add_subplot(gs[2])\n",
    "    plt.title('Fitted Mask')\n",
    "    plt.tick_params(axis='both', which='both', bottom=False, top=False, labelbottom=False, right=False, left=False, labelleft=False)\n",
    "    plot_mask(frame_id)\n",
    "\n",
    "    fig.add_subplot(gs[3])\n",
    "    plt.title('Reconstruction Error')\n",
    "    plt.xlim(0, 150)\n",
    "    plt.tick_params(axis='both', which='both', bottom=False, top=False, labelbottom=False, right=False, left=False, labelleft=False)\n",
    "    plot_reconstruction_error(frame_id)\n",
    "\n",
    "    fig.add_subplot(gs2[2])\n",
    "    plt.title(\"Shape Coefficients\")\n",
    "    plt.ylim(-10, 10)\n",
    "    plot_params(load_params(frame_id).shape_coefficients)\n",
    "\n",
    "    fig.add_subplot(gs2[3])\n",
    "    plt.title(\"Expression Coefficients\")\n",
    "    plt.ylim(-10, 10)\n",
    "    plot_params(load_params(frame_id).expression_coefficients, color='orange')\n",
    "\n",
    "    plot_manager.save_current_plot(f\"final/frame_{frame_id:04d}.jpg\")\n",
    "\n",
    "    plt.show()\n",
    "    plt.close()"
   ]
  },
  {
   "cell_type": "markdown",
   "id": "conditional-handling",
   "metadata": {},
   "source": [
    "# 5. Param History"
   ]
  },
  {
   "cell_type": "code",
   "execution_count": null,
   "id": "successful-salmon",
   "metadata": {},
   "outputs": [],
   "source": [
    "generate_param_history_video(0)"
   ]
  },
  {
   "cell_type": "code",
   "execution_count": null,
   "id": "alike-bandwidth",
   "metadata": {},
   "outputs": [],
   "source": []
  }
 ],
 "metadata": {
  "kernelspec": {
   "display_name": "Python 3",
   "language": "python",
   "name": "python3"
  },
  "language_info": {
   "codemirror_mode": {
    "name": "ipython",
    "version": 3
   },
   "file_extension": ".py",
   "mimetype": "text/x-python",
   "name": "python",
   "nbconvert_exporter": "python",
   "pygments_lexer": "ipython3",
   "version": "3.7.9"
  }
 },
 "nbformat": 4,
 "nbformat_minor": 5
}
