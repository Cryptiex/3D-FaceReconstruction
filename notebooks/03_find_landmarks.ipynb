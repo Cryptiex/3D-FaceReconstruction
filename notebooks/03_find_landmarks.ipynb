{
 "cells": [
  {
   "cell_type": "code",
   "execution_count": 1,
   "metadata": {},
   "outputs": [
    {
     "name": "stdout",
     "output_type": "stream",
     "text": [
      "D:\\ownCloud\\Uni\\Semester Ma 5\\3D Scanning & Motion Capture (IN2354)\\Project\\3D-FaceReconstruction\n"
     ]
    }
   ],
   "source": [
    "%cd ..\n",
    "%reload_ext autoreload\n",
    "%autoreload 2"
   ]
  },
  {
   "cell_type": "code",
   "execution_count": 2,
   "metadata": {},
   "outputs": [],
   "source": [
    "import eos\n",
    "import h5py\n",
    "import matplotlib.pyplot as plt\n",
    "import numpy as np\n",
    "import pyrender\n",
    "import trimesh\n",
    "import pickle\n",
    "\n",
    "from xml.dom import minidom\n",
    "from collections import defaultdict\n",
    "\n",
    "from face_reconstruction.model import BaselFaceModel\n",
    "from face_reconstruction.landmarks import save_bfm_landmarks\n",
    "\n",
    "from env import BASEL_FACE_MODEL_PATH"
   ]
  },
  {
   "cell_type": "markdown",
   "metadata": {},
   "source": [
    "# 1. Load model"
   ]
  },
  {
   "cell_type": "code",
   "execution_count": 3,
   "metadata": {},
   "outputs": [],
   "source": [
    "bfm = BaselFaceModel.from_h5(\"model2019_face12.h5\")"
   ]
  },
  {
   "cell_type": "code",
   "execution_count": 4,
   "metadata": {},
   "outputs": [],
   "source": [
    "n_shape_coefficients = bfm.get_n_shape_coefficients()\n",
    "n_expression_coefficients = bfm.get_n_expression_coefficients()\n",
    "n_color_coefficients = bfm.get_n_color_coefficients()"
   ]
  },
  {
   "cell_type": "code",
   "execution_count": 5,
   "metadata": {},
   "outputs": [],
   "source": [
    "face_mesh = bfm.draw_sample([0 for _ in range(n_shape_coefficients)], [0 for _ in range(n_expression_coefficients)], [0 for _ in range(n_color_coefficients)])"
   ]
  },
  {
   "cell_type": "code",
   "execution_count": 6,
   "metadata": {},
   "outputs": [],
   "source": [
    "face_trimesh = bfm.convert_to_trimesh(face_mesh)\n",
    "#face_trimesh.export(f\"{BASEL_FACE_MODEL_PATH}/model2019_face12.ply\")"
   ]
  },
  {
   "cell_type": "markdown",
   "metadata": {},
   "source": [
    "# 2. Load manually picked landmark coordinates from MeshLab file"
   ]
  },
  {
   "cell_type": "code",
   "execution_count": 7,
   "metadata": {},
   "outputs": [],
   "source": [
    "def parse_xml_point(xml_point):\n",
    "    point_id = int(xml_point.attributes['name'].value)\n",
    "    coordinates = np.array([float(xml_point.attributes['x'].value), float(xml_point.attributes['y'].value), float(xml_point.attributes['z'].value)])\n",
    "    return point_id, coordinates"
   ]
  },
  {
   "cell_type": "code",
   "execution_count": 8,
   "metadata": {},
   "outputs": [],
   "source": [
    "xml_doc = minidom.parse(f\"{BASEL_FACE_MODEL_PATH}/model2019_face12_landmarks_v2.pp\")"
   ]
  },
  {
   "cell_type": "code",
   "execution_count": 9,
   "metadata": {},
   "outputs": [],
   "source": [
    "points = xml_doc.getElementsByTagName(\"point\")\n",
    "multi_pie_landmark_coordinates = [parse_xml_point(point) for point in points]"
   ]
  },
  {
   "cell_type": "code",
   "execution_count": 10,
   "metadata": {},
   "outputs": [
    {
     "data": {
      "text/plain": [
       "[(1, array([-69.931007,  28.560308,  48.61932 ])),\n",
       " (2, array([-69.627991 ,   9.4500484,  48.533798 ])),\n",
       " (3, array([-65.37912 , -14.477787,  51.418316])),\n",
       " (4, array([-61.998131, -33.647957,  52.082237])),\n",
       " (5, array([-53.668434, -53.548779,  52.107006])),\n",
       " (6, array([-41.075741, -69.155334,  56.70562 ])),\n",
       " (7, array([-29.112886, -77.756973,  63.635536])),\n",
       " (8, array([-13.517088, -84.987083,  70.500969])),\n",
       " (9, array([  1.4427356, -86.341873 ,  73.674377 ])),\n",
       " (10, array([ 17.884701, -83.655823,  69.047203])),\n",
       " (11, array([ 33.397823, -75.292313,  60.388084])),\n",
       " (12, array([ 47.540726, -62.847561,  53.251385])),\n",
       " (13, array([ 57.802597, -47.262321,  50.653191])),\n",
       " (14, array([ 63.404911, -29.730335,  51.239803])),\n",
       " (15, array([ 65.886734, -11.012751,  51.095459])),\n",
       " (16, array([69.782455 ,  9.7624693, 48.27858  ])),\n",
       " (17, array([68.999817, 29.877851, 49.063202])),\n",
       " (18, array([-57.599289,  45.260448,  80.311104])),\n",
       " (19, array([-51.050247,  50.861427,  90.475594])),\n",
       " (20, array([-43.937374,  53.694866,  96.944923])),\n",
       " (21, array([-34.576725,  53.936447, 102.78628 ])),\n",
       " (22, array([-22.289579,  51.109379, 106.7172  ])),\n",
       " (23, array([ 18.971844,  50.261303, 107.1888  ])),\n",
       " (24, array([ 29.486658,  53.53141 , 105.01941 ])),\n",
       " (25, array([ 37.648075,  54.337929, 100.89788 ])),\n",
       " (26, array([46.60149 , 53.051701, 94.58326 ])),\n",
       " (27, array([54.482395, 49.392063, 85.889717])),\n",
       " (28, array([  0.50357312,  40.940071  , 108.10094   ])),\n",
       " (29, array([  0.18316594,  28.294165  , 113.55538   ])),\n",
       " (30, array([  0.30407503,  14.677712  , 122.5172    ])),\n",
       " (31, array([ 4.6714497e-01, -1.0037853e-01,  1.3052686e+02])),\n",
       " (32, array([-17.405272 ,  -8.2220688, 102.97369  ])),\n",
       " (33, array([ -8.989397, -12.262006, 109.19542 ])),\n",
       " (34, array([ -0.35007229, -12.899987  , 113.32226   ])),\n",
       " (35, array([  7.6192636, -12.19569  , 110.20683  ])),\n",
       " (36, array([ 16.948488 ,  -9.4333487, 102.94493  ])),\n",
       " (37, array([-43.618484,  34.168861,  87.801071])),\n",
       " (38, array([-36.872089,  37.068958,  93.958046])),\n",
       " (39, array([-29.012281,  37.469128,  94.967979])),\n",
       " (40, array([-21.040037,  33.59174 ,  91.596436])),\n",
       " (41, array([-28.057255,  30.674452,  93.815742])),\n",
       " (42, array([-35.831863,  30.421408,  92.955421])),\n",
       " (43, array([21.583015, 33.89933 , 91.381676])),\n",
       " (44, array([27.982996, 37.448719, 94.695694])),\n",
       " (45, array([35.381424, 36.922073, 94.158035])),\n",
       " (46, array([43.318001, 33.771149, 87.175003])),\n",
       " (47, array([36.433865, 30.203379, 92.575249])),\n",
       " (48, array([27.838692, 30.750355, 93.948402])),\n",
       " (49, array([-27.841433, -33.813057,  90.838699])),\n",
       " (50, array([-19.794542, -27.682711, 103.67568 ])),\n",
       " (51, array([ -9.8338785, -24.420483 , 110.31252  ])),\n",
       " (52, array([  1.3112373, -25.14435  , 111.56391  ])),\n",
       " (53, array([  9.1984386, -24.692989 , 110.71072  ])),\n",
       " (54, array([ 20.393944, -26.426538, 103.19359 ])),\n",
       " (55, array([ 29.661545, -32.494076,  90.667618])),\n",
       " (56, array([ 19.022575, -40.055763,  99.330902])),\n",
       " (57, array([  8.1341152, -45.048538 , 105.38445  ])),\n",
       " (58, array([ -0.92907923, -45.855061  , 106.33755   ])),\n",
       " (59, array([ -9.1006107, -45.064724 , 105.27672  ])),\n",
       " (60, array([-20.110329, -41.282181,  98.851341])),\n",
       " (61, array([-25.284555, -33.335594,  92.904083])),\n",
       " (62, array([ -9.1007528, -30.544773 , 106.13902  ])),\n",
       " (63, array([  0.30633551, -30.739632  , 106.99472   ])),\n",
       " (64, array([  9.0826254, -30.2773   , 106.58866  ])),\n",
       " (65, array([ 25.428764, -32.618473,  92.302673])),\n",
       " (66, array([ 11.1159  , -36.035957, 103.22685 ])),\n",
       " (67, array([  0.30166176, -36.858212  , 105.59415   ])),\n",
       " (68, array([ -9.0519247, -36.804733 , 104.10834  ]))]"
      ]
     },
     "execution_count": 10,
     "metadata": {},
     "output_type": "execute_result"
    }
   ],
   "source": [
    "multi_pie_landmark_coordinates"
   ]
  },
  {
   "cell_type": "markdown",
   "metadata": {},
   "source": [
    "# 3. Find corresponding vertex IDs in mesh"
   ]
  },
  {
   "cell_type": "code",
   "execution_count": 11,
   "metadata": {},
   "outputs": [],
   "source": [
    "closest_vertices = {}\n",
    "closest_distances = {}\n",
    "for vertex_id, vertex in enumerate(face_trimesh.vertices):\n",
    "    for landmark_idx, landmark in multi_pie_landmark_coordinates:\n",
    "        distance = np.linalg.norm(landmark - vertex)\n",
    "        if landmark_idx not in closest_vertices or distance < closest_distances[landmark_idx]:\n",
    "            closest_vertices[landmark_idx] = vertex_id\n",
    "            closest_distances[landmark_idx] = distance"
   ]
  },
  {
   "cell_type": "code",
   "execution_count": 12,
   "metadata": {},
   "outputs": [
    {
     "data": {
      "text/plain": [
       "{1: 16506,\n",
       " 2: 15592,\n",
       " 3: 21354,\n",
       " 4: 17304,\n",
       " 5: 18246,\n",
       " 6: 18214,\n",
       " 7: 21562,\n",
       " 8: 16358,\n",
       " 9: 15850,\n",
       " 10: 4233,\n",
       " 11: 4234,\n",
       " 12: 4493,\n",
       " 13: 1865,\n",
       " 14: 7456,\n",
       " 15: 197,\n",
       " 16: 7938,\n",
       " 17: 34,\n",
       " 18: 22050,\n",
       " 19: 25251,\n",
       " 20: 17458,\n",
       " 21: 27089,\n",
       " 22: 21910,\n",
       " 23: 11856,\n",
       " 24: 12306,\n",
       " 25: 66,\n",
       " 26: 68,\n",
       " 27: 3635,\n",
       " 28: 10535,\n",
       " 29: 15877,\n",
       " 30: 15925,\n",
       " 31: 15841,\n",
       " 32: 15384,\n",
       " 33: 18137,\n",
       " 34: 23372,\n",
       " 35: 13285,\n",
       " 36: 13632,\n",
       " 37: 23870,\n",
       " 38: 23053,\n",
       " 39: 22520,\n",
       " 40: 16017,\n",
       " 41: 23083,\n",
       " 42: 17646,\n",
       " 43: 6993,\n",
       " 44: 10654,\n",
       " 45: 600,\n",
       " 46: 9918,\n",
       " 47: 11115,\n",
       " 48: 9131,\n",
       " 49: 22858,\n",
       " 50: 27020,\n",
       " 51: 18364,\n",
       " 52: 7854,\n",
       " 53: 5617,\n",
       " 54: 6265,\n",
       " 55: 5032,\n",
       " 56: 1727,\n",
       " 57: 12603,\n",
       " 58: 25911,\n",
       " 59: 19752,\n",
       " 60: 19127,\n",
       " 61: 26201,\n",
       " 62: 21620,\n",
       " 63: 18197,\n",
       " 64: 10941,\n",
       " 65: 1739,\n",
       " 66: 4657,\n",
       " 67: 18295,\n",
       " 68: 26195}"
      ]
     },
     "execution_count": 12,
     "metadata": {},
     "output_type": "execute_result"
    }
   ],
   "source": [
    "closest_vertices"
   ]
  },
  {
   "cell_type": "code",
   "execution_count": 13,
   "metadata": {},
   "outputs": [],
   "source": [
    "save_bfm_landmarks(closest_vertices, \"model2019_face12_landmarks_v2\")"
   ]
  },
  {
   "cell_type": "markdown",
   "metadata": {},
   "source": [
    "# 4. Visualize outputs"
   ]
  },
  {
   "cell_type": "code",
   "execution_count": 14,
   "metadata": {},
   "outputs": [],
   "source": [
    "for vertex_id in closest_vertices.values():\n",
    "    vertex = face_trimesh.visual.vertex_colors[vertex_id]\n",
    "    vertex[0] = 255\n",
    "    vertex[1] = 0\n",
    "    vertex[2] = 0"
   ]
  },
  {
   "cell_type": "code",
   "execution_count": 15,
   "metadata": {},
   "outputs": [],
   "source": [
    "perspective_camera = pyrender.PerspectiveCamera(yfov=np.pi / 3.0, aspectRatio=1.414)\n",
    "directional_light = pyrender.DirectionalLight(color=[1.0, 1.0, 1.0], intensity=2.0)"
   ]
  },
  {
   "cell_type": "code",
   "execution_count": 16,
   "metadata": {},
   "outputs": [
    {
     "data": {
      "text/plain": [
       "<pyrender.node.Node at 0x1443c1a8848>"
      ]
     },
     "execution_count": 16,
     "metadata": {},
     "output_type": "execute_result"
    }
   ],
   "source": [
    "scene = pyrender.Scene()\n",
    "scene.add(pyrender.Mesh.from_trimesh(face_trimesh))\n",
    "scene.add(perspective_camera, pose=np.array([[1, 0, 0, 0], [0, 1, 0, 0], [0, 0, 1, 300], [0, 0, 0, 1]])) # Position camera just in front of face\n",
    "scene.add(directional_light)"
   ]
  },
  {
   "cell_type": "code",
   "execution_count": 17,
   "metadata": {},
   "outputs": [
    {
     "data": {
      "text/plain": [
       "Viewer(width=640, height=480)"
      ]
     },
     "execution_count": 17,
     "metadata": {},
     "output_type": "execute_result"
    }
   ],
   "source": [
    "pyrender.Viewer(scene, use_raymond_lighting=True)"
   ]
  },
  {
   "cell_type": "code",
   "execution_count": null,
   "metadata": {},
   "outputs": [],
   "source": []
  }
 ],
 "metadata": {
  "kernelspec": {
   "display_name": "Python 3",
   "language": "python",
   "name": "python3"
  },
  "language_info": {
   "codemirror_mode": {
    "name": "ipython",
    "version": 3
   },
   "file_extension": ".py",
   "mimetype": "text/x-python",
   "name": "python",
   "nbconvert_exporter": "python",
   "pygments_lexer": "ipython3",
   "version": "3.7.9"
  }
 },
 "nbformat": 4,
 "nbformat_minor": 4
}
