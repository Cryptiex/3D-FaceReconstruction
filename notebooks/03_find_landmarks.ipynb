{
 "cells": [
  {
   "cell_type": "code",
   "execution_count": 1,
   "metadata": {},
   "outputs": [
    {
     "name": "stdout",
     "output_type": "stream",
     "text": [
      "D:\\ownCloud\\Uni\\Semester Ma 5\\3D Scanning & Motion Capture (IN2354)\\Project\\3D-FaceReconstruction\n"
     ]
    }
   ],
   "source": [
    "%cd ..\n",
    "%reload_ext autoreload\n",
    "%autoreload 2"
   ]
  },
  {
   "cell_type": "code",
   "execution_count": 2,
   "metadata": {},
   "outputs": [],
   "source": [
    "import eos\n",
    "import h5py\n",
    "import matplotlib.pyplot as plt\n",
    "import numpy as np\n",
    "import pyrender\n",
    "import trimesh\n",
    "import pickle\n",
    "\n",
    "from xml.dom import minidom\n",
    "from collections import defaultdict\n",
    "\n",
    "from face_reconstruction.model import BaselFaceModel\n",
    "from face_reconstruction.landmarks import save_landmarks\n",
    "\n",
    "from env import BASEL_FACE_MODEL_PATH"
   ]
  },
  {
   "cell_type": "markdown",
   "metadata": {},
   "source": [
    "# 1. Load model"
   ]
  },
  {
   "cell_type": "code",
   "execution_count": 3,
   "metadata": {},
   "outputs": [],
   "source": [
    "bfm = BaselFaceModel.from_h5(\"model2019_face12.h5\")"
   ]
  },
  {
   "cell_type": "code",
   "execution_count": 4,
   "metadata": {},
   "outputs": [],
   "source": [
    "n_shape_coefficients = bfm.get_n_shape_coefficients()\n",
    "n_expression_coefficients = bfm.get_n_expression_coefficients()\n",
    "n_color_coefficients = bfm.get_n_color_coefficients()"
   ]
  },
  {
   "cell_type": "code",
   "execution_count": 5,
   "metadata": {},
   "outputs": [],
   "source": [
    "face_mesh = bfm.draw_sample([0 for _ in range(n_shape_coefficients)], [0 for _ in range(n_expression_coefficients)], [0 for _ in range(n_color_coefficients)])"
   ]
  },
  {
   "cell_type": "code",
   "execution_count": 6,
   "metadata": {},
   "outputs": [],
   "source": [
    "face_trimesh = bfm.convert_to_trimesh(face_mesh)\n",
    "#face_trimesh.export(f\"{BASEL_FACE_MODEL_PATH}/model2019_face12.ply\")"
   ]
  },
  {
   "cell_type": "markdown",
   "metadata": {},
   "source": [
    "# 2. Load manually picked landmark coordinates from MeshLab file"
   ]
  },
  {
   "cell_type": "code",
   "execution_count": 7,
   "metadata": {},
   "outputs": [],
   "source": [
    "def parse_xml_point(xml_point):\n",
    "    point_id = int(xml_point.attributes['name'].value)\n",
    "    coordinates = np.array([float(xml_point.attributes['x'].value), float(xml_point.attributes['y'].value), float(xml_point.attributes['z'].value)])\n",
    "    return point_id, coordinates"
   ]
  },
  {
   "cell_type": "code",
   "execution_count": 8,
   "metadata": {},
   "outputs": [],
   "source": [
    "xml_doc = minidom.parse(f\"{BASEL_FACE_MODEL_PATH}/model2019_face12_landmarks.pp\")"
   ]
  },
  {
   "cell_type": "code",
   "execution_count": 9,
   "metadata": {},
   "outputs": [],
   "source": [
    "points = xml_doc.getElementsByTagName(\"point\")\n",
    "multi_pie_landmark_coordinates = [parse_xml_point(point) for point in points]"
   ]
  },
  {
   "cell_type": "code",
   "execution_count": 10,
   "metadata": {},
   "outputs": [
    {
     "data": {
      "text/plain": [
       "[(1, array([-69.931007,  28.560308,  48.61932 ])),\n",
       " (2, array([-69.627991 ,   9.4500484,  48.533798 ])),\n",
       " (3, array([-65.37912 , -14.477787,  51.418316])),\n",
       " (4, array([-61.998131, -33.647957,  52.082237])),\n",
       " (5, array([-54.344574, -52.718498,  51.751541])),\n",
       " (6, array([-41.773003, -66.850563,  62.176857])),\n",
       " (7, array([-27.938793, -78.346947,  64.261902])),\n",
       " (8, array([-13.789294, -84.575066,  71.738678])),\n",
       " (9, array([  0.19254546, -86.417137  ,  73.450485  ])),\n",
       " (10, array([ 18.038544, -83.46743 ,  69.182701])),\n",
       " (11, array([ 33.134388, -75.307884,  60.965725])),\n",
       " (12, array([ 43.878792, -66.84166 ,  54.778755])),\n",
       " (13, array([ 57.802597, -47.262321,  50.653191])),\n",
       " (14, array([ 63.404911, -29.730335,  51.239803])),\n",
       " (15, array([ 65.886734, -11.012751,  51.095459])),\n",
       " (16, array([69.782455 ,  9.7624693, 48.27858  ])),\n",
       " (17, array([68.999817, 29.877851, 49.063202])),\n",
       " (18, array([-57.599289,  45.260448,  80.311104])),\n",
       " (19, array([-51.050247,  50.861427,  90.475594])),\n",
       " (20, array([-43.937374,  53.694866,  96.944923])),\n",
       " (21, array([-34.576725,  53.936447, 102.78628 ])),\n",
       " (22, array([-22.289579,  51.109379, 106.7172  ])),\n",
       " (23, array([ 18.971844,  50.261303, 107.1888  ])),\n",
       " (24, array([ 29.486658,  53.53141 , 105.01941 ])),\n",
       " (25, array([ 37.648075,  54.337929, 100.89788 ])),\n",
       " (26, array([46.60149 , 53.051701, 94.58326 ])),\n",
       " (27, array([54.482395, 49.392063, 85.889717])),\n",
       " (28, array([  0.50357312,  40.940071  , 108.10094   ])),\n",
       " (29, array([  0.52753341,  27.585472  , 114.13091   ])),\n",
       " (30, array([  1.2377228,  14.873583 , 122.23701  ])),\n",
       " (31, array([  2.0135455,   2.8030291, 129.91711  ])),\n",
       " (32, array([-15.916534, -11.61687 , 104.65418 ])),\n",
       " (33, array([ -8.989397, -12.262006, 109.19542 ])),\n",
       " (34, array([ -0.35007229, -12.899987  , 113.32226   ])),\n",
       " (35, array([  7.6192636, -12.19569  , 110.20683  ])),\n",
       " (36, array([ 16.620802 ,  -9.2327166, 103.41219  ])),\n",
       " (37, array([-43.618484,  34.168861,  87.801071])),\n",
       " (38, array([-36.872089,  37.068958,  93.958046])),\n",
       " (39, array([-29.012281,  37.469128,  94.967979])),\n",
       " (40, array([-21.040037,  33.59174 ,  91.596436])),\n",
       " (41, array([-28.057255,  30.674452,  93.815742])),\n",
       " (42, array([-35.831863,  30.421408,  92.955421])),\n",
       " (43, array([21.583015, 33.89933 , 91.381676])),\n",
       " (44, array([27.982996, 37.448719, 94.695694])),\n",
       " (45, array([35.381424, 36.922073, 94.158035])),\n",
       " (46, array([43.318001, 33.771149, 87.175003])),\n",
       " (47, array([36.433865, 30.203379, 92.575249])),\n",
       " (48, array([27.838692, 30.750355, 93.948402])),\n",
       " (49, array([-28.992645, -32.168182,  91.895966])),\n",
       " (50, array([-19.066898, -27.298466, 104.35762 ])),\n",
       " (51, array([ -7.4687271, -24.499157 , 110.99768  ])),\n",
       " (52, array([ -0.76415652, -25.81736   , 111.62557   ])),\n",
       " (53, array([  7.4657402, -24.367813 , 111.19209  ])),\n",
       " (54, array([ 17.359221, -25.834602, 105.88783 ])),\n",
       " (55, array([ 29.661545, -32.494076,  90.667618])),\n",
       " (56, array([ 17.21451 , -42.170536, 100.70248 ])),\n",
       " (57, array([  8.1341152, -45.048538 , 105.38445  ])),\n",
       " (58, array([ -0.92907923, -45.855061  , 106.33755   ])),\n",
       " (59, array([ -9.7268858, -44.473186 , 105.39909  ])),\n",
       " (60, array([-21.665737, -39.640106,  97.370583])),\n",
       " (61, array([-24.798094, -33.357449,  93.094887])),\n",
       " (62, array([ -9.1007528, -30.544773 , 106.13902  ])),\n",
       " (63, array([  0.30633551, -30.739632  , 106.99472   ])),\n",
       " (64, array([  9.0826254, -30.2773   , 106.58866  ])),\n",
       " (65, array([ 25.30345 , -32.402073,  92.76799 ])),\n",
       " (66, array([ 11.1159  , -36.035957, 103.22685 ])),\n",
       " (67, array([  0.30166176, -36.858212  , 105.59415   ])),\n",
       " (68, array([ -9.0519247, -36.804733 , 104.10834  ]))]"
      ]
     },
     "execution_count": 10,
     "metadata": {},
     "output_type": "execute_result"
    }
   ],
   "source": [
    "multi_pie_landmark_coordinates"
   ]
  },
  {
   "cell_type": "markdown",
   "metadata": {},
   "source": [
    "# 3. Find corresponding vertex IDs in mesh"
   ]
  },
  {
   "cell_type": "code",
   "execution_count": 11,
   "metadata": {},
   "outputs": [],
   "source": [
    "closest_vertices = {}\n",
    "closest_distances = {}\n",
    "for vertex_id, vertex in enumerate(face_trimesh.vertices):\n",
    "    for landmark_idx, landmark in multi_pie_landmark_coordinates:\n",
    "        distance = np.linalg.norm(landmark - vertex)\n",
    "        if landmark_idx not in closest_vertices or distance < closest_distances[landmark_idx]:\n",
    "            closest_vertices[landmark_idx] = vertex_id\n",
    "            closest_distances[landmark_idx] = distance"
   ]
  },
  {
   "cell_type": "code",
   "execution_count": 12,
   "metadata": {},
   "outputs": [
    {
     "data": {
      "text/plain": [
       "{1: 12550,\n",
       " 2: 25563,\n",
       " 3: 11735,\n",
       " 4: 107,\n",
       " 5: 2926,\n",
       " 6: 585,\n",
       " 7: 26043,\n",
       " 8: 23314,\n",
       " 9: 429,\n",
       " 10: 5494,\n",
       " 11: 4710,\n",
       " 12: 361,\n",
       " 13: 11847,\n",
       " 14: 18345,\n",
       " 15: 20967,\n",
       " 16: 14965,\n",
       " 17: 26053,\n",
       " 18: 22083,\n",
       " 19: 10487,\n",
       " 20: 27365,\n",
       " 21: 5909,\n",
       " 22: 24076,\n",
       " 23: 23596,\n",
       " 24: 22244,\n",
       " 25: 24263,\n",
       " 26: 24301,\n",
       " 27: 17422,\n",
       " 28: 26082,\n",
       " 29: 24204,\n",
       " 30: 4580,\n",
       " 31: 45,\n",
       " 32: 27273,\n",
       " 33: 1081,\n",
       " 34: 24839,\n",
       " 35: 21702,\n",
       " 36: 12561,\n",
       " 37: 6898,\n",
       " 38: 6740,\n",
       " 39: 14119,\n",
       " 40: 16732,\n",
       " 41: 23309,\n",
       " 42: 24290,\n",
       " 43: 20843,\n",
       " 44: 26598,\n",
       " 45: 14406,\n",
       " 46: 5534,\n",
       " 47: 11246,\n",
       " 48: 19783,\n",
       " 49: 11660,\n",
       " 50: 12568,\n",
       " 51: 25963,\n",
       " 52: 1104,\n",
       " 53: 7951,\n",
       " 54: 12703,\n",
       " 55: 4945,\n",
       " 56: 24720,\n",
       " 57: 7451,\n",
       " 58: 22167,\n",
       " 59: 6942,\n",
       " 60: 25919,\n",
       " 61: 15130,\n",
       " 62: 14765,\n",
       " 63: 19732,\n",
       " 64: 2225,\n",
       " 65: 9718,\n",
       " 66: 17791,\n",
       " 67: 13689,\n",
       " 68: 4140}"
      ]
     },
     "execution_count": 12,
     "metadata": {},
     "output_type": "execute_result"
    }
   ],
   "source": [
    "closest_vertices"
   ]
  },
  {
   "cell_type": "code",
   "execution_count": 13,
   "metadata": {},
   "outputs": [],
   "source": [
    "save_landmarks(closest_vertices, \"model2019_face12_landmarks\")"
   ]
  },
  {
   "cell_type": "markdown",
   "metadata": {},
   "source": [
    "# 4. Visualize outputs"
   ]
  },
  {
   "cell_type": "code",
   "execution_count": 14,
   "metadata": {},
   "outputs": [],
   "source": [
    "for vertex_id in closest_vertices.values():\n",
    "    vertex = face_trimesh.visual.vertex_colors[vertex_id]\n",
    "    vertex[0] = 255\n",
    "    vertex[1] = 0\n",
    "    vertex[2] = 0"
   ]
  },
  {
   "cell_type": "code",
   "execution_count": 15,
   "metadata": {},
   "outputs": [],
   "source": [
    "perspective_camera = pyrender.PerspectiveCamera(yfov=np.pi / 3.0, aspectRatio=1.414)\n",
    "directional_light = pyrender.DirectionalLight(color=[1.0, 1.0, 1.0], intensity=2.0)"
   ]
  },
  {
   "cell_type": "code",
   "execution_count": 16,
   "metadata": {},
   "outputs": [
    {
     "data": {
      "text/plain": [
       "<pyrender.node.Node at 0x25eb4053648>"
      ]
     },
     "execution_count": 16,
     "metadata": {},
     "output_type": "execute_result"
    }
   ],
   "source": [
    "scene = pyrender.Scene()\n",
    "scene.add(pyrender.Mesh.from_trimesh(face_trimesh))\n",
    "scene.add(perspective_camera, pose=np.array([[1, 0, 0, 0], [0, 1, 0, 0], [0, 0, 1, 300], [0, 0, 0, 1]])) # Position camera just in front of face\n",
    "scene.add(directional_light)"
   ]
  },
  {
   "cell_type": "code",
   "execution_count": 17,
   "metadata": {},
   "outputs": [
    {
     "data": {
      "text/plain": [
       "Viewer(width=640, height=480)"
      ]
     },
     "execution_count": 17,
     "metadata": {},
     "output_type": "execute_result"
    }
   ],
   "source": [
    "pyrender.Viewer(scene, use_raymond_lighting=True)"
   ]
  }
 ],
 "metadata": {
  "kernelspec": {
   "display_name": "Python 3",
   "language": "python",
   "name": "python3"
  },
  "language_info": {
   "codemirror_mode": {
    "name": "ipython",
    "version": 3
   },
   "file_extension": ".py",
   "mimetype": "text/x-python",
   "name": "python",
   "nbconvert_exporter": "python",
   "pygments_lexer": "ipython3",
   "version": "3.7.9"
  }
 },
 "nbformat": 4,
 "nbformat_minor": 4
}
